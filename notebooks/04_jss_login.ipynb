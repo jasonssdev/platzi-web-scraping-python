{
 "cells": [
  {
   "cell_type": "code",
   "execution_count": 1,
   "id": "ad7110a1",
   "metadata": {},
   "outputs": [],
   "source": [
    "import time\n",
    "from bs4 import BeautifulSoup\n",
    "\n",
    "from selenium import webdriver\n",
    "from selenium.webdriver.chrome.service import Service\n",
    "from selenium.webdriver.common.by import By"
   ]
  },
  {
   "cell_type": "markdown",
   "id": "2759848b",
   "metadata": {},
   "source": [
    "## 1) Configuración del Servicio y Driver"
   ]
  },
  {
   "cell_type": "code",
   "execution_count": 2,
   "id": "948d00ea",
   "metadata": {},
   "outputs": [],
   "source": [
    "from utils.paths import DRIVERS_DIR\n",
    "# Ruta al chromedriver (si no está en el PATH)\n",
    "chrome_driver_path = str(DRIVERS_DIR / \"chromedriver\")\n",
    "\n",
    "# Opcional: configurar opciones\n",
    "options = webdriver.ChromeOptions()\n",
    "options.add_argument(\"--start-maximized\")  # Pantalla completa\n",
    "options.add_argument(\"--disable-blink-features=AutomationControlled\")  # Menos detectable\n",
    "\n",
    "# Crear el servicio y el driver\n",
    "service = Service(executable_path=chrome_driver_path)\n",
    "driver = webdriver.Chrome(service=service, options=options)"
   ]
  },
  {
   "cell_type": "markdown",
   "id": "52df5b95",
   "metadata": {},
   "source": [
    "## 2) Definir url"
   ]
  },
  {
   "cell_type": "code",
   "execution_count": 3,
   "id": "9e191bd5",
   "metadata": {},
   "outputs": [],
   "source": [
    "# Ir al sitio\n",
    "url = \"http://quotes.toscrape.com/scroll\"\n",
    "driver.get(url)\n",
    "\n",
    "# Esperar 3 segundos\n",
    "time.sleep(3)"
   ]
  },
  {
   "cell_type": "markdown",
   "id": "0d2f7236",
   "metadata": {},
   "source": [
    "## 3) Implementación\n"
   ]
  },
  {
   "cell_type": "code",
   "execution_count": 5,
   "id": "8aedaa35",
   "metadata": {},
   "outputs": [],
   "source": [
    "login_link = driver.find_element(By.LINK_TEXT, \"Login\")\n",
    "login_link.click()\n",
    "time.sleep(2)"
   ]
  },
  {
   "cell_type": "code",
   "execution_count": 6,
   "id": "bcadb49c",
   "metadata": {},
   "outputs": [],
   "source": [
    "driver.find_element(By.ID, \"username\").send_keys(\"jss-admin\")\n",
    "driver.find_element(By.ID, \"password\").send_keys(\"jss123\")"
   ]
  },
  {
   "cell_type": "code",
   "execution_count": 7,
   "id": "019053d8",
   "metadata": {},
   "outputs": [],
   "source": [
    "driver.find_element(By.CSS_SELECTOR, \"input[type='submit']\").click()\n",
    "time.sleep(5)"
   ]
  },
  {
   "cell_type": "code",
   "execution_count": 8,
   "id": "724b7e97",
   "metadata": {},
   "outputs": [
    {
     "name": "stdout",
     "output_type": "stream",
     "text": [
      "Top Ten Tags:\n",
      "- love\n",
      "- inspirational\n",
      "- life\n",
      "- humor\n",
      "- books\n",
      "- reading\n",
      "- friendship\n",
      "- friends\n",
      "- truth\n",
      "- simile\n"
     ]
    }
   ],
   "source": [
    "soup = BeautifulSoup(driver.page_source, \"html.parser\")\n",
    "tags_box = soup.find(\"div\", class_=\"tags-box\")\n",
    "tags = [tag.get_text(strip=True) for tag in tags_box.find_all(\"a\", class_=\"tag\")]\n",
    "\n",
    "# Imprimir los resultados\n",
    "print(\"Top Ten Tags:\")\n",
    "for tag in tags:\n",
    "    print(\"-\", tag)"
   ]
  },
  {
   "cell_type": "code",
   "execution_count": 9,
   "id": "33b216ae",
   "metadata": {},
   "outputs": [],
   "source": [
    "driver.quit()"
   ]
  },
  {
   "cell_type": "code",
   "execution_count": null,
   "id": "35ac4147",
   "metadata": {},
   "outputs": [],
   "source": []
  }
 ],
 "metadata": {
  "kernelspec": {
   "display_name": "ws-py312",
   "language": "python",
   "name": "python3"
  },
  "language_info": {
   "codemirror_mode": {
    "name": "ipython",
    "version": 3
   },
   "file_extension": ".py",
   "mimetype": "text/x-python",
   "name": "python",
   "nbconvert_exporter": "python",
   "pygments_lexer": "ipython3",
   "version": "3.12.11"
  }
 },
 "nbformat": 4,
 "nbformat_minor": 5
}
