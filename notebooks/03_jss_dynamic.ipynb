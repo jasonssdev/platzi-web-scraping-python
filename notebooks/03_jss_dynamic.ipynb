{
 "cells": [
  {
   "cell_type": "code",
   "execution_count": 1,
   "id": "c9df5882",
   "metadata": {},
   "outputs": [],
   "source": [
    "import requests"
   ]
  },
  {
   "cell_type": "code",
   "execution_count": 2,
   "id": "5939072d",
   "metadata": {},
   "outputs": [],
   "source": [
    "url = \"http://quotes.toscrape.com/scroll\"\n",
    "website = requests.get(url)"
   ]
  },
  {
   "cell_type": "code",
   "execution_count": 3,
   "id": "44b45f1a",
   "metadata": {},
   "outputs": [
    {
     "name": "stdout",
     "output_type": "stream",
     "text": [
      "<!DOCTYPE html>\n",
      "<html lang=\"en\">\n",
      "<head>\n",
      "\t<meta charset=\"UTF-8\">\n",
      "\t<title>Quotes to Scrape</title>\n",
      "    <link rel=\"stylesheet\" href=\"/static/bootstrap.min.css\">\n",
      "    <link rel=\"stylesheet\" href=\"/static/main.css\">\n",
      "    \n",
      "    \n",
      "</head>\n",
      "<body>\n",
      "    <div class=\"container\">\n",
      "        <div class=\"row header-box\">\n",
      "            <div class=\"col-md-8\">\n",
      "                <h1>\n",
      "                    <a href=\"/\" style=\"text-decoration: none\">Quotes to Scrape</a>\n",
      "                </h1>\n",
      "            </div>\n",
      "            <div class=\"col-md-4\">\n",
      "                <p>\n",
      "                \n",
      "                    <a href=\"/login\">Login</a>\n",
      "                \n",
      "                </p>\n",
      "            </div>\n",
      "        </div>\n",
      "    \n",
      "<div class=\"row\">\n",
      "    <div class=\"col-md-8\">\n",
      "        <div class=\"quotes\"></div>\n",
      "    </div>\n",
      "</div>\n",
      "<div id=\"loading\" style=\"background-color: #eeeecc\"><h5>Loading...</h5></div>\n",
      "<script src=\"/static/jquery.js\"></script>\n",
      "<script>\n",
      "    $(function(){\n",
      "        var page = 1, tag = null, hasNextPage = true;\n",
      "        function appendQuotes(quotes) {\n",
      "            var $quotes = $('.quotes');\n",
      "            var html = $.map(quotes, function(d){\n",
      "                var tags = $.map(d['tags'], function(t) {\n",
      "                    return \"<a class='tag'>\" + t + \"</a>\";\n",
      "                }).join(\" \");\n",
      "                return \"<div class='quote'><span class='text'>\" + d['text'] + \"</span><span>by <small class='author'>\" + d['author']['name'] + \"</small></span><div class='tags'>Tags: \" + tags + \"</div></div>\";\n",
      "            });\n",
      "\n",
      "            $quotes.append(html);\n",
      "        }\n",
      "\n",
      "        function updatePage(page) {\n",
      "            $('#loading').show('fast');\n",
      "            $.get('/api/quotes', {page: page}).done(function(data) {\n",
      "                appendQuotes(data.quotes);\n",
      "                hasNextPage = data.has_next;\n",
      "                $('#loading').hide('fast');\n",
      "            });\n",
      "        }\n",
      "        updatePage(page);\n",
      "        $(window).on('scroll', function(){\n",
      "            var scrollTop = $(window).scrollTop();\n",
      "            var heightDiff = $(document).height() - $(window).height();\n",
      "            if (hasNextPage && Math.abs(scrollTop - heightDiff) <= 1){\n",
      "                page += 1;\n",
      "                console.log('scrolling to page: ' + page);\n",
      "                updatePage(page);\n",
      "            }\n",
      "        });\n",
      "    });\n",
      "</script>\n",
      "\n",
      "    </div>\n",
      "    <footer class=\"footer\">\n",
      "        <div class=\"container\">\n",
      "            <p class=\"text-muted\">\n",
      "                Quotes by: <a href=\"https://www.goodreads.com/quotes\">GoodReads.com</a>\n",
      "            </p>\n",
      "            <p class=\"copyright\">\n",
      "                Made with <span class='zyte'>❤</span> by <a class='zyte' href=\"https://www.zyte.com\">Zyte</a>\n",
      "            </p>\n",
      "        </div>\n",
      "    </footer>\n",
      "</body>\n",
      "</html>\n"
     ]
    }
   ],
   "source": [
    "print(website.text)"
   ]
  },
  {
   "cell_type": "markdown",
   "id": "2c2b0b50",
   "metadata": {},
   "source": [
    "## 1) Dependencias"
   ]
  },
  {
   "cell_type": "code",
   "execution_count": 4,
   "id": "9ad501f3",
   "metadata": {},
   "outputs": [],
   "source": [
    "import time\n",
    "from bs4 import BeautifulSoup\n",
    "\n",
    "from selenium import webdriver\n",
    "from selenium.webdriver.chrome.service import Service"
   ]
  },
  {
   "cell_type": "code",
   "execution_count": 5,
   "id": "a7ce611e",
   "metadata": {},
   "outputs": [
    {
     "name": "stdout",
     "output_type": "stream",
     "text": [
      "/Users/jasonssdev/Dev/Learning/Platzi/platzi-web-scraping-python/drivers/chromedriver\n"
     ]
    }
   ],
   "source": [
    "from utils.paths import DRIVERS_DIR\n",
    "chrome_driver_path = str(DRIVERS_DIR / \"chromedriver\")\n",
    "print(chrome_driver_path)"
   ]
  },
  {
   "cell_type": "code",
   "execution_count": 6,
   "id": "08e1970a",
   "metadata": {},
   "outputs": [],
   "source": [
    "options = webdriver.ChromeOptions()\n",
    "options.add_argument(\"--start-maximized\")  # Full screen\n",
    "options.add_argument(\"--disable-blink-features=AutomationControlled\")  # less detectable"
   ]
  },
  {
   "cell_type": "code",
   "execution_count": 11,
   "id": "79edd11e",
   "metadata": {},
   "outputs": [],
   "source": [
    "service = Service(executable_path=chrome_driver_path)\n",
    "driver = webdriver.Chrome(service=service, options=options)"
   ]
  },
  {
   "cell_type": "markdown",
   "id": "2aad3d98",
   "metadata": {},
   "source": [
    "## 3) Definir url"
   ]
  },
  {
   "cell_type": "code",
   "execution_count": 12,
   "id": "6a3c1262",
   "metadata": {},
   "outputs": [],
   "source": [
    "# Abrir un sitio dinámico de práctica\n",
    "url = \"http://quotes.toscrape.com/scroll\"\n",
    "driver.get(url)\n",
    "\n",
    "# Espera a que se cargue el contenido dinámico\n",
    "time.sleep(3)"
   ]
  },
  {
   "cell_type": "markdown",
   "id": "929663dc",
   "metadata": {},
   "source": [
    "## 4) Manipular HTML Renderizado"
   ]
  },
  {
   "cell_type": "code",
   "execution_count": 13,
   "id": "a4442070",
   "metadata": {},
   "outputs": [
    {
     "name": "stdout",
     "output_type": "stream",
     "text": [
      "Citas encontradas: 10\n",
      "“The world as we have created it is a process of our thinking. It cannot be changed without changing our thinking.” - Albert Einstein\n",
      "“It is our choices, Harry, that show what we truly are, far more than our abilities.” - J.K. Rowling\n",
      "“There are only two ways to live your life. One is as though nothing is a miracle. The other is as though everything is a miracle.” - Albert Einstein\n",
      "“The person, be it gentleman or lady, who has not pleasure in a good novel, must be intolerably stupid.” - Jane Austen\n",
      "“Imperfection is beauty, madness is genius and it's better to be absolutely ridiculous than absolutely boring.” - Marilyn Monroe\n",
      "“Try not to become a man of success. Rather become a man of value.” - Albert Einstein\n",
      "“It is better to be hated for what you are than to be loved for what you are not.” - André Gide\n",
      "“I have not failed. I've just found 10,000 ways that won't work.” - Thomas A. Edison\n",
      "“A woman is like a tea bag; you never know how strong it is until it's in hot water.” - Eleanor Roosevelt\n",
      "“A day without sunshine is like, you know, night.” - Steve Martin\n"
     ]
    }
   ],
   "source": [
    "# Obtener el HTML renderizado\n",
    "html = driver.page_source\n",
    "driver.quit()\n",
    "\n",
    "# Procesar el HTML con BeautifulSoup\n",
    "soup = BeautifulSoup(html, \"html.parser\")\n",
    "quotes = soup.select(\"div.quote\")\n",
    "\n",
    "print(\"Citas encontradas:\", len(quotes))\n",
    "for quote in quotes:\n",
    "    text = quote.find(\"span\", class_=\"text\").get_text()\n",
    "    author = quote.find(\"small\", class_=\"author\").get_text()\n",
    "    print(f\"{text} - {author}\")"
   ]
  },
  {
   "cell_type": "code",
   "execution_count": 14,
   "id": "f2844ae8",
   "metadata": {},
   "outputs": [
    {
     "data": {
      "text/plain": [
       "'<html lang=\"en\"><head>\\n\\t<meta charset=\"UTF-8\">\\n\\t<title>Quotes to Scrape</title>\\n    <link rel=\"stylesheet\" href=\"/static/bootstrap.min.css\">\\n    <link rel=\"stylesheet\" href=\"/static/main.css\">\\n    \\n    \\n</head>\\n<body>\\n    <div class=\"container\">\\n        <div class=\"row header-box\">\\n            <div class=\"col-md-8\">\\n                <h1>\\n                    <a href=\"/\" style=\"text-decoration: none\">Quotes to Scrape</a>\\n                </h1>\\n            </div>\\n            <div class=\"col-md-4\">\\n                <p>\\n                \\n                    <a href=\"/login\">Login</a>\\n                \\n                </p>\\n            </div>\\n        </div>\\n    \\n<div class=\"row\">\\n    <div class=\"col-md-8\">\\n        <div class=\"quotes\"><div class=\"quote\"><span class=\"text\">“The world as we have created it is a process of our thinking. It cannot be changed without changing our thinking.”</span><span>by <small class=\"author\">Albert Einstein</small></span><div class=\"tags\">Tags: <a class=\"tag\">change</a> <a class=\"tag\">deep-thoughts</a> <a class=\"tag\">thinking</a> <a class=\"tag\">world</a></div></div><div class=\"quote\"><span class=\"text\">“It is our choices, Harry, that show what we truly are, far more than our abilities.”</span><span>by <small class=\"author\">J.K. Rowling</small></span><div class=\"tags\">Tags: <a class=\"tag\">abilities</a> <a class=\"tag\">choices</a></div></div><div class=\"quote\"><span class=\"text\">“There are only two ways to live your life. One is as though nothing is a miracle. The other is as though everything is a miracle.”</span><span>by <small class=\"author\">Albert Einstein</small></span><div class=\"tags\">Tags: <a class=\"tag\">inspirational</a> <a class=\"tag\">life</a> <a class=\"tag\">live</a> <a class=\"tag\">miracle</a> <a class=\"tag\">miracles</a></div></div><div class=\"quote\"><span class=\"text\">“The person, be it gentleman or lady, who has not pleasure in a good novel, must be intolerably stupid.”</span><span>by <small class=\"author\">Jane Austen</small></span><div class=\"tags\">Tags: <a class=\"tag\">aliteracy</a> <a class=\"tag\">books</a> <a class=\"tag\">classic</a> <a class=\"tag\">humor</a></div></div><div class=\"quote\"><span class=\"text\">“Imperfection is beauty, madness is genius and it\\'s better to be absolutely ridiculous than absolutely boring.”</span><span>by <small class=\"author\">Marilyn Monroe</small></span><div class=\"tags\">Tags: <a class=\"tag\">be-yourself</a> <a class=\"tag\">inspirational</a></div></div><div class=\"quote\"><span class=\"text\">“Try not to become a man of success. Rather become a man of value.”</span><span>by <small class=\"author\">Albert Einstein</small></span><div class=\"tags\">Tags: <a class=\"tag\">adulthood</a> <a class=\"tag\">success</a> <a class=\"tag\">value</a></div></div><div class=\"quote\"><span class=\"text\">“It is better to be hated for what you are than to be loved for what you are not.”</span><span>by <small class=\"author\">André Gide</small></span><div class=\"tags\">Tags: <a class=\"tag\">life</a> <a class=\"tag\">love</a></div></div><div class=\"quote\"><span class=\"text\">“I have not failed. I\\'ve just found 10,000 ways that won\\'t work.”</span><span>by <small class=\"author\">Thomas A. Edison</small></span><div class=\"tags\">Tags: <a class=\"tag\">edison</a> <a class=\"tag\">failure</a> <a class=\"tag\">inspirational</a> <a class=\"tag\">paraphrased</a></div></div><div class=\"quote\"><span class=\"text\">“A woman is like a tea bag; you never know how strong it is until it\\'s in hot water.”</span><span>by <small class=\"author\">Eleanor Roosevelt</small></span><div class=\"tags\">Tags: <a class=\"tag\">misattributed-eleanor-roosevelt</a></div></div><div class=\"quote\"><span class=\"text\">“A day without sunshine is like, you know, night.”</span><span>by <small class=\"author\">Steve Martin</small></span><div class=\"tags\">Tags: <a class=\"tag\">humor</a> <a class=\"tag\">obvious</a> <a class=\"tag\">simile</a></div></div></div>\\n    </div>\\n</div>\\n<div id=\"loading\" style=\"background-color: rgb(238, 238, 204); display: none;\"><h5>Loading...</h5></div>\\n<script src=\"/static/jquery.js\"></script>\\n<script>\\n    $(function(){\\n        var page = 1, tag = null, hasNextPage = true;\\n        function appendQuotes(quotes) {\\n            var $quotes = $(\\'.quotes\\');\\n            var html = $.map(quotes, function(d){\\n                var tags = $.map(d[\\'tags\\'], function(t) {\\n                    return \"<a class=\\'tag\\'>\" + t + \"</a>\";\\n                }).join(\" \");\\n                return \"<div class=\\'quote\\'><span class=\\'text\\'>\" + d[\\'text\\'] + \"</span><span>by <small class=\\'author\\'>\" + d[\\'author\\'][\\'name\\'] + \"</small></span><div class=\\'tags\\'>Tags: \" + tags + \"</div></div>\";\\n            });\\n\\n            $quotes.append(html);\\n        }\\n\\n        function updatePage(page) {\\n            $(\\'#loading\\').show(\\'fast\\');\\n            $.get(\\'/api/quotes\\', {page: page}).done(function(data) {\\n                appendQuotes(data.quotes);\\n                hasNextPage = data.has_next;\\n                $(\\'#loading\\').hide(\\'fast\\');\\n            });\\n        }\\n        updatePage(page);\\n        $(window).on(\\'scroll\\', function(){\\n            var scrollTop = $(window).scrollTop();\\n            var heightDiff = $(document).height() - $(window).height();\\n            if (hasNextPage && Math.abs(scrollTop - heightDiff) <= 1){\\n                page += 1;\\n                console.log(\\'scrolling to page: \\' + page);\\n                updatePage(page);\\n            }\\n        });\\n    });\\n</script>\\n\\n    </div>\\n    <footer class=\"footer\">\\n        <div class=\"container\">\\n            <p class=\"text-muted\">\\n                Quotes by: <a href=\"https://www.goodreads.com/quotes\">GoodReads.com</a>\\n            </p>\\n            <p class=\"copyright\">\\n                Made with <span class=\"zyte\">❤</span> by <a class=\"zyte\" href=\"https://www.zyte.com\">Zyte</a>\\n            </p>\\n        </div>\\n    </footer>\\n\\n</body></html>'"
      ]
     },
     "execution_count": 14,
     "metadata": {},
     "output_type": "execute_result"
    }
   ],
   "source": [
    "html"
   ]
  },
  {
   "cell_type": "code",
   "execution_count": 15,
   "id": "061a3376",
   "metadata": {},
   "outputs": [
    {
     "data": {
      "text/plain": [
       "<html lang=\"en\"><head>\n",
       "<meta charset=\"utf-8\"/>\n",
       "<title>Quotes to Scrape</title>\n",
       "<link href=\"/static/bootstrap.min.css\" rel=\"stylesheet\"/>\n",
       "<link href=\"/static/main.css\" rel=\"stylesheet\"/>\n",
       "</head>\n",
       "<body>\n",
       "<div class=\"container\">\n",
       "<div class=\"row header-box\">\n",
       "<div class=\"col-md-8\">\n",
       "<h1>\n",
       "<a href=\"/\" style=\"text-decoration: none\">Quotes to Scrape</a>\n",
       "</h1>\n",
       "</div>\n",
       "<div class=\"col-md-4\">\n",
       "<p>\n",
       "<a href=\"/login\">Login</a>\n",
       "</p>\n",
       "</div>\n",
       "</div>\n",
       "<div class=\"row\">\n",
       "<div class=\"col-md-8\">\n",
       "<div class=\"quotes\"><div class=\"quote\"><span class=\"text\">“The world as we have created it is a process of our thinking. It cannot be changed without changing our thinking.”</span><span>by <small class=\"author\">Albert Einstein</small></span><div class=\"tags\">Tags: <a class=\"tag\">change</a> <a class=\"tag\">deep-thoughts</a> <a class=\"tag\">thinking</a> <a class=\"tag\">world</a></div></div><div class=\"quote\"><span class=\"text\">“It is our choices, Harry, that show what we truly are, far more than our abilities.”</span><span>by <small class=\"author\">J.K. Rowling</small></span><div class=\"tags\">Tags: <a class=\"tag\">abilities</a> <a class=\"tag\">choices</a></div></div><div class=\"quote\"><span class=\"text\">“There are only two ways to live your life. One is as though nothing is a miracle. The other is as though everything is a miracle.”</span><span>by <small class=\"author\">Albert Einstein</small></span><div class=\"tags\">Tags: <a class=\"tag\">inspirational</a> <a class=\"tag\">life</a> <a class=\"tag\">live</a> <a class=\"tag\">miracle</a> <a class=\"tag\">miracles</a></div></div><div class=\"quote\"><span class=\"text\">“The person, be it gentleman or lady, who has not pleasure in a good novel, must be intolerably stupid.”</span><span>by <small class=\"author\">Jane Austen</small></span><div class=\"tags\">Tags: <a class=\"tag\">aliteracy</a> <a class=\"tag\">books</a> <a class=\"tag\">classic</a> <a class=\"tag\">humor</a></div></div><div class=\"quote\"><span class=\"text\">“Imperfection is beauty, madness is genius and it's better to be absolutely ridiculous than absolutely boring.”</span><span>by <small class=\"author\">Marilyn Monroe</small></span><div class=\"tags\">Tags: <a class=\"tag\">be-yourself</a> <a class=\"tag\">inspirational</a></div></div><div class=\"quote\"><span class=\"text\">“Try not to become a man of success. Rather become a man of value.”</span><span>by <small class=\"author\">Albert Einstein</small></span><div class=\"tags\">Tags: <a class=\"tag\">adulthood</a> <a class=\"tag\">success</a> <a class=\"tag\">value</a></div></div><div class=\"quote\"><span class=\"text\">“It is better to be hated for what you are than to be loved for what you are not.”</span><span>by <small class=\"author\">André Gide</small></span><div class=\"tags\">Tags: <a class=\"tag\">life</a> <a class=\"tag\">love</a></div></div><div class=\"quote\"><span class=\"text\">“I have not failed. I've just found 10,000 ways that won't work.”</span><span>by <small class=\"author\">Thomas A. Edison</small></span><div class=\"tags\">Tags: <a class=\"tag\">edison</a> <a class=\"tag\">failure</a> <a class=\"tag\">inspirational</a> <a class=\"tag\">paraphrased</a></div></div><div class=\"quote\"><span class=\"text\">“A woman is like a tea bag; you never know how strong it is until it's in hot water.”</span><span>by <small class=\"author\">Eleanor Roosevelt</small></span><div class=\"tags\">Tags: <a class=\"tag\">misattributed-eleanor-roosevelt</a></div></div><div class=\"quote\"><span class=\"text\">“A day without sunshine is like, you know, night.”</span><span>by <small class=\"author\">Steve Martin</small></span><div class=\"tags\">Tags: <a class=\"tag\">humor</a> <a class=\"tag\">obvious</a> <a class=\"tag\">simile</a></div></div></div>\n",
       "</div>\n",
       "</div>\n",
       "<div id=\"loading\" style=\"background-color: rgb(238, 238, 204); display: none;\"><h5>Loading...</h5></div>\n",
       "<script src=\"/static/jquery.js\"></script>\n",
       "<script>\n",
       "    $(function(){\n",
       "        var page = 1, tag = null, hasNextPage = true;\n",
       "        function appendQuotes(quotes) {\n",
       "            var $quotes = $('.quotes');\n",
       "            var html = $.map(quotes, function(d){\n",
       "                var tags = $.map(d['tags'], function(t) {\n",
       "                    return \"<a class='tag'>\" + t + \"</a>\";\n",
       "                }).join(\" \");\n",
       "                return \"<div class='quote'><span class='text'>\" + d['text'] + \"</span><span>by <small class='author'>\" + d['author']['name'] + \"</small></span><div class='tags'>Tags: \" + tags + \"</div></div>\";\n",
       "            });\n",
       "\n",
       "            $quotes.append(html);\n",
       "        }\n",
       "\n",
       "        function updatePage(page) {\n",
       "            $('#loading').show('fast');\n",
       "            $.get('/api/quotes', {page: page}).done(function(data) {\n",
       "                appendQuotes(data.quotes);\n",
       "                hasNextPage = data.has_next;\n",
       "                $('#loading').hide('fast');\n",
       "            });\n",
       "        }\n",
       "        updatePage(page);\n",
       "        $(window).on('scroll', function(){\n",
       "            var scrollTop = $(window).scrollTop();\n",
       "            var heightDiff = $(document).height() - $(window).height();\n",
       "            if (hasNextPage && Math.abs(scrollTop - heightDiff) <= 1){\n",
       "                page += 1;\n",
       "                console.log('scrolling to page: ' + page);\n",
       "                updatePage(page);\n",
       "            }\n",
       "        });\n",
       "    });\n",
       "</script>\n",
       "</div>\n",
       "<footer class=\"footer\">\n",
       "<div class=\"container\">\n",
       "<p class=\"text-muted\">\n",
       "                Quotes by: <a href=\"https://www.goodreads.com/quotes\">GoodReads.com</a>\n",
       "</p>\n",
       "<p class=\"copyright\">\n",
       "                Made with <span class=\"zyte\">❤</span> by <a class=\"zyte\" href=\"https://www.zyte.com\">Zyte</a>\n",
       "</p>\n",
       "</div>\n",
       "</footer>\n",
       "</body></html>"
      ]
     },
     "execution_count": 15,
     "metadata": {},
     "output_type": "execute_result"
    }
   ],
   "source": [
    "soup"
   ]
  },
  {
   "cell_type": "code",
   "execution_count": 16,
   "id": "0d53793c",
   "metadata": {},
   "outputs": [
    {
     "data": {
      "text/plain": [
       "[<div class=\"quote\"><span class=\"text\">“The world as we have created it is a process of our thinking. It cannot be changed without changing our thinking.”</span><span>by <small class=\"author\">Albert Einstein</small></span><div class=\"tags\">Tags: <a class=\"tag\">change</a> <a class=\"tag\">deep-thoughts</a> <a class=\"tag\">thinking</a> <a class=\"tag\">world</a></div></div>,\n",
       " <div class=\"quote\"><span class=\"text\">“It is our choices, Harry, that show what we truly are, far more than our abilities.”</span><span>by <small class=\"author\">J.K. Rowling</small></span><div class=\"tags\">Tags: <a class=\"tag\">abilities</a> <a class=\"tag\">choices</a></div></div>,\n",
       " <div class=\"quote\"><span class=\"text\">“There are only two ways to live your life. One is as though nothing is a miracle. The other is as though everything is a miracle.”</span><span>by <small class=\"author\">Albert Einstein</small></span><div class=\"tags\">Tags: <a class=\"tag\">inspirational</a> <a class=\"tag\">life</a> <a class=\"tag\">live</a> <a class=\"tag\">miracle</a> <a class=\"tag\">miracles</a></div></div>,\n",
       " <div class=\"quote\"><span class=\"text\">“The person, be it gentleman or lady, who has not pleasure in a good novel, must be intolerably stupid.”</span><span>by <small class=\"author\">Jane Austen</small></span><div class=\"tags\">Tags: <a class=\"tag\">aliteracy</a> <a class=\"tag\">books</a> <a class=\"tag\">classic</a> <a class=\"tag\">humor</a></div></div>,\n",
       " <div class=\"quote\"><span class=\"text\">“Imperfection is beauty, madness is genius and it's better to be absolutely ridiculous than absolutely boring.”</span><span>by <small class=\"author\">Marilyn Monroe</small></span><div class=\"tags\">Tags: <a class=\"tag\">be-yourself</a> <a class=\"tag\">inspirational</a></div></div>,\n",
       " <div class=\"quote\"><span class=\"text\">“Try not to become a man of success. Rather become a man of value.”</span><span>by <small class=\"author\">Albert Einstein</small></span><div class=\"tags\">Tags: <a class=\"tag\">adulthood</a> <a class=\"tag\">success</a> <a class=\"tag\">value</a></div></div>,\n",
       " <div class=\"quote\"><span class=\"text\">“It is better to be hated for what you are than to be loved for what you are not.”</span><span>by <small class=\"author\">André Gide</small></span><div class=\"tags\">Tags: <a class=\"tag\">life</a> <a class=\"tag\">love</a></div></div>,\n",
       " <div class=\"quote\"><span class=\"text\">“I have not failed. I've just found 10,000 ways that won't work.”</span><span>by <small class=\"author\">Thomas A. Edison</small></span><div class=\"tags\">Tags: <a class=\"tag\">edison</a> <a class=\"tag\">failure</a> <a class=\"tag\">inspirational</a> <a class=\"tag\">paraphrased</a></div></div>,\n",
       " <div class=\"quote\"><span class=\"text\">“A woman is like a tea bag; you never know how strong it is until it's in hot water.”</span><span>by <small class=\"author\">Eleanor Roosevelt</small></span><div class=\"tags\">Tags: <a class=\"tag\">misattributed-eleanor-roosevelt</a></div></div>,\n",
       " <div class=\"quote\"><span class=\"text\">“A day without sunshine is like, you know, night.”</span><span>by <small class=\"author\">Steve Martin</small></span><div class=\"tags\">Tags: <a class=\"tag\">humor</a> <a class=\"tag\">obvious</a> <a class=\"tag\">simile</a></div></div>]"
      ]
     },
     "execution_count": 16,
     "metadata": {},
     "output_type": "execute_result"
    }
   ],
   "source": [
    "quotes"
   ]
  },
  {
   "cell_type": "code",
   "execution_count": null,
   "id": "07e4f779",
   "metadata": {},
   "outputs": [],
   "source": []
  }
 ],
 "metadata": {
  "kernelspec": {
   "display_name": "ws-py312",
   "language": "python",
   "name": "python3"
  },
  "language_info": {
   "codemirror_mode": {
    "name": "ipython",
    "version": 3
   },
   "file_extension": ".py",
   "mimetype": "text/x-python",
   "name": "python",
   "nbconvert_exporter": "python",
   "pygments_lexer": "ipython3",
   "version": "3.12.11"
  }
 },
 "nbformat": 4,
 "nbformat_minor": 5
}
