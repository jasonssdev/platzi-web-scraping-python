{
 "cells": [
  {
   "cell_type": "code",
   "execution_count": 1,
   "id": "c9df5882",
   "metadata": {},
   "outputs": [],
   "source": [
    "import requests"
   ]
  },
  {
   "cell_type": "code",
   "execution_count": 2,
   "id": "5939072d",
   "metadata": {},
   "outputs": [],
   "source": [
    "url = \"http://quotes.toscrape.com/scroll\"\n",
    "website = requests.get(url)"
   ]
  },
  {
   "cell_type": "code",
   "execution_count": 3,
   "id": "44b45f1a",
   "metadata": {},
   "outputs": [
    {
     "name": "stdout",
     "output_type": "stream",
     "text": [
      "<!DOCTYPE html>\n",
      "<html lang=\"en\">\n",
      "<head>\n",
      "\t<meta charset=\"UTF-8\">\n",
      "\t<title>Quotes to Scrape</title>\n",
      "    <link rel=\"stylesheet\" href=\"/static/bootstrap.min.css\">\n",
      "    <link rel=\"stylesheet\" href=\"/static/main.css\">\n",
      "    \n",
      "    \n",
      "</head>\n",
      "<body>\n",
      "    <div class=\"container\">\n",
      "        <div class=\"row header-box\">\n",
      "            <div class=\"col-md-8\">\n",
      "                <h1>\n",
      "                    <a href=\"/\" style=\"text-decoration: none\">Quotes to Scrape</a>\n",
      "                </h1>\n",
      "            </div>\n",
      "            <div class=\"col-md-4\">\n",
      "                <p>\n",
      "                \n",
      "                    <a href=\"/login\">Login</a>\n",
      "                \n",
      "                </p>\n",
      "            </div>\n",
      "        </div>\n",
      "    \n",
      "<div class=\"row\">\n",
      "    <div class=\"col-md-8\">\n",
      "        <div class=\"quotes\"></div>\n",
      "    </div>\n",
      "</div>\n",
      "<div id=\"loading\" style=\"background-color: #eeeecc\"><h5>Loading...</h5></div>\n",
      "<script src=\"/static/jquery.js\"></script>\n",
      "<script>\n",
      "    $(function(){\n",
      "        var page = 1, tag = null, hasNextPage = true;\n",
      "        function appendQuotes(quotes) {\n",
      "            var $quotes = $('.quotes');\n",
      "            var html = $.map(quotes, function(d){\n",
      "                var tags = $.map(d['tags'], function(t) {\n",
      "                    return \"<a class='tag'>\" + t + \"</a>\";\n",
      "                }).join(\" \");\n",
      "                return \"<div class='quote'><span class='text'>\" + d['text'] + \"</span><span>by <small class='author'>\" + d['author']['name'] + \"</small></span><div class='tags'>Tags: \" + tags + \"</div></div>\";\n",
      "            });\n",
      "\n",
      "            $quotes.append(html);\n",
      "        }\n",
      "\n",
      "        function updatePage(page) {\n",
      "            $('#loading').show('fast');\n",
      "            $.get('/api/quotes', {page: page}).done(function(data) {\n",
      "                appendQuotes(data.quotes);\n",
      "                hasNextPage = data.has_next;\n",
      "                $('#loading').hide('fast');\n",
      "            });\n",
      "        }\n",
      "        updatePage(page);\n",
      "        $(window).on('scroll', function(){\n",
      "            var scrollTop = $(window).scrollTop();\n",
      "            var heightDiff = $(document).height() - $(window).height();\n",
      "            if (hasNextPage && Math.abs(scrollTop - heightDiff) <= 1){\n",
      "                page += 1;\n",
      "                console.log('scrolling to page: ' + page);\n",
      "                updatePage(page);\n",
      "            }\n",
      "        });\n",
      "    });\n",
      "</script>\n",
      "\n",
      "    </div>\n",
      "    <footer class=\"footer\">\n",
      "        <div class=\"container\">\n",
      "            <p class=\"text-muted\">\n",
      "                Quotes by: <a href=\"https://www.goodreads.com/quotes\">GoodReads.com</a>\n",
      "            </p>\n",
      "            <p class=\"copyright\">\n",
      "                Made with <span class='zyte'>❤</span> by <a class='zyte' href=\"https://www.zyte.com\">Zyte</a>\n",
      "            </p>\n",
      "        </div>\n",
      "    </footer>\n",
      "</body>\n",
      "</html>\n"
     ]
    }
   ],
   "source": [
    "print(website.text)"
   ]
  },
  {
   "cell_type": "markdown",
   "id": "2c2b0b50",
   "metadata": {},
   "source": [
    "## 1) Dependencias"
   ]
  },
  {
   "cell_type": "code",
   "execution_count": 4,
   "id": "9ad501f3",
   "metadata": {},
   "outputs": [],
   "source": [
    "import time\n",
    "from bs4 import BeautifulSoup\n",
    "\n",
    "from selenium import webdriver\n",
    "from selenium.webdriver.chrome.service import Service"
   ]
  },
  {
   "cell_type": "code",
   "execution_count": 5,
   "id": "a7ce611e",
   "metadata": {},
   "outputs": [
    {
     "name": "stdout",
     "output_type": "stream",
     "text": [
      "/Users/jasonssdev/Dev/Learning/Platzi/platzi-web-scraping-python/drivers/chromedriver\n"
     ]
    }
   ],
   "source": [
    "from utils.paths import DRIVERS_DIR\n",
    "chrome_driver_path = str(DRIVERS_DIR / \"chromedriver\")\n",
    "print(chrome_driver_path)"
   ]
  },
  {
   "cell_type": "code",
   "execution_count": 6,
   "id": "08e1970a",
   "metadata": {},
   "outputs": [],
   "source": [
    "options = webdriver.ChromeOptions()\n",
    "options.add_argument(\"--start-maximized\")  # Full screen\n",
    "options.add_argument(\"--disable-blink-features=AutomationControlled\")  # less detectable"
   ]
  },
  {
   "cell_type": "code",
   "execution_count": 11,
   "id": "79edd11e",
   "metadata": {},
   "outputs": [],
   "source": [
    "service = Service(executable_path=chrome_driver_path)\n",
    "driver = webdriver.Chrome(service=service, options=options)"
   ]
  },
  {
   "cell_type": "markdown",
   "id": "2aad3d98",
   "metadata": {},
   "source": [
    "## 3) Definir url"
   ]
  },
  {
   "cell_type": "code",
   "execution_count": 12,
   "id": "6a3c1262",
   "metadata": {},
   "outputs": [],
   "source": [
    "# Abrir un sitio dinámico de práctica\n",
    "url = \"http://quotes.toscrape.com/scroll\"\n",
    "driver.get(url)\n",
    "\n",
    "# Espera a que se cargue el contenido dinámico\n",
    "time.sleep(3)"
   ]
  },
  {
   "cell_type": "markdown",
   "id": "929663dc",
   "metadata": {},
   "source": [
    "## 4) Manipular HTML Renderizado"
   ]
  },
  {
   "cell_type": "code",
   "execution_count": 13,
   "id": "a4442070",
   "metadata": {},
   "outputs": [
    {
     "name": "stdout",
     "output_type": "stream",
     "text": [
      "Citas encontradas: 10\n",
      "“The world as we have created it is a process of our thinking. It cannot be changed without changing our thinking.” - Albert Einstein\n",
      "“It is our choices, Harry, that show what we truly are, far more than our abilities.” - J.K. Rowling\n",
      "“There are only two ways to live your life. One is as though nothing is a miracle. The other is as though everything is a miracle.” - Albert Einstein\n",
      "“The person, be it gentleman or lady, who has not pleasure in a good novel, must be intolerably stupid.” - Jane Austen\n",
      "“Imperfection is beauty, madness is genius and it's better to be absolutely ridiculous than absolutely boring.” - Marilyn Monroe\n",
      "“Try not to become a man of success. Rather become a man of value.” - Albert Einstein\n",
      "“It is better to be hated for what you are than to be loved for what you are not.” - André Gide\n",
      "“I have not failed. I've just found 10,000 ways that won't work.” - Thomas A. Edison\n",
      "“A woman is like a tea bag; you never know how strong it is until it's in hot water.” - Eleanor Roosevelt\n",
      "“A day without sunshine is like, you know, night.” - Steve Martin\n"
     ]
    }
   ],
   "source": [
    "# Obtener el HTML renderizado\n",
    "html = driver.page_source\n",
    "driver.quit()\n",
    "\n",
    "# Procesar el HTML con BeautifulSoup\n",
    "soup = BeautifulSoup(html, \"html.parser\")\n",
    "quotes = soup.select(\"div.quote\")\n",
    "\n",
    "print(\"Citas encontradas:\", len(quotes))\n",
    "for quote in quotes:\n",
    "    text = quote.find(\"span\", class_=\"text\").get_text()\n",
    "    author = quote.find(\"small\", class_=\"author\").get_text()\n",
    "    print(f\"{text} - {author}\")"
   ]
  },
  {
   "cell_type": "code",
   "execution_count": 14,
   "id": "f2844ae8",
   "metadata": {},
   "outputs": [
    {
     "data": {
      "text/plain": [
       "'<html lang=\"en\"><head>\\n\\t<meta charset=\"UTF-8\">\\n\\t<title>Quotes to Scrape</title>\\n    <link rel=\"stylesheet\" href=\"/static/bootstrap.min.css\">\\n    <link rel=\"stylesheet\" href=\"/static/main.css\">\\n    \\n    \\n</head>\\n<body>\\n    <div class=\"container\">\\n        <div class=\"row header-box\">\\n            <div class=\"col-md-8\">\\n                <h1>\\n                    <a href=\"/\" style=\"text-decoration: none\">Quotes to Scrape</a>\\n                </h1>\\n            </div>\\n            <div class=\"col-md-4\">\\n                <p>\\n                \\n                    <a href=\"/login\">Login</a>\\n                \\n                </p>\\n            </div>\\n        </div>\\n    \\n<div class=\"row\">\\n    <div class=\"col-md-8\">\\n        <div class=\"quotes\"><div class=\"quote\"><span class=\"text\">“The world as we have created it is a process of our thinking. It cannot be changed without changing our thinking.”</span><span>by <small class=\"author\">Albert Einstein</small></span><div class=\"tags\">Tags: <a class=\"tag\">change</a> <a class=\"tag\">deep-thoughts</a> <a class=\"tag\">thinking</a> <a class=\"tag\">world</a></div></div><div class=\"quote\"><span class=\"text\">“It is our choices, Harry, that show what we truly are, far more than our abilities.”</span><span>by <small class=\"author\">J.K. Rowling</small></span><div class=\"tags\">Tags: <a class=\"tag\">abilities</a> <a class=\"tag\">choices</a></div></div><div class=\"quote\"><span class=\"text\">“There are only two ways to live your life. One is as though nothing is a miracle. The other is as though everything is a miracle.”</span><span>by <small class=\"author\">Albert Einstein</small></span><div class=\"tags\">Tags: <a class=\"tag\">inspirational</a> <a class=\"tag\">life</a> <a class=\"tag\">live</a> <a class=\"tag\">miracle</a> <a class=\"tag\">miracles</a></div></div><div class=\"quote\"><span class=\"text\">“The person, be it gentleman or lady, who has not pleasure in a good novel, must be intolerably stupid.”</span><span>by <small class=\"author\">Jane Austen</small></span><div class=\"tags\">Tags: <a class=\"tag\">aliteracy</a> <a class=\"tag\">books</a> <a class=\"tag\">classic</a> <a class=\"tag\">humor</a></div></div><div class=\"quote\"><span class=\"text\">“Imperfection is beauty, madness is genius and it\\'s better to be absolutely ridiculous than absolutely boring.”</span><span>by <small class=\"author\">Marilyn Monroe</small></span><div class=\"tags\">Tags: <a class=\"tag\">be-yourself</a> <a class=\"tag\">inspirational</a></div></div><div class=\"quote\"><span class=\"text\">“Try not to become a man of success. Rather become a man of value.”</span><span>by <small class=\"author\">Albert Einstein</small></span><div class=\"tags\">Tags: <a class=\"tag\">adulthood</a> <a class=\"tag\">success</a> <a class=\"tag\">value</a></div></div><div class=\"quote\"><span class=\"text\">“It is better to be hated for what you are than to be loved for what you are not.”</span><span>by <small class=\"author\">André Gide</small></span><div class=\"tags\">Tags: <a class=\"tag\">life</a> <a class=\"tag\">love</a></div></div><div class=\"quote\"><span class=\"text\">“I have not failed. I\\'ve just found 10,000 ways that won\\'t work.”</span><span>by <small class=\"author\">Thomas A. Edison</small></span><div class=\"tags\">Tags: <a class=\"tag\">edison</a> <a class=\"tag\">failure</a> <a class=\"tag\">inspirational</a> <a class=\"tag\">paraphrased</a></div></div><div class=\"quote\"><span class=\"text\">“A woman is like a tea bag; you never know how strong it is until it\\'s in hot water.”</span><span>by <small class=\"author\">Eleanor Roosevelt</small></span><div class=\"tags\">Tags: <a class=\"tag\">misattributed-eleanor-roosevelt</a></div></div><div class=\"quote\"><span class=\"text\">“A day without sunshine is like, you know, night.”</span><span>by <small class=\"author\">Steve Martin</small></span><div class=\"tags\">Tags: <a class=\"tag\">humor</a> <a class=\"tag\">obvious</a> <a class=\"tag\">simile</a></div></div></div>\\n    </div>\\n</div>\\n<div id=\"loading\" style=\"background-color: rgb(238, 238, 204); display: none;\"><h5>Loading...</h5></div>\\n<script src=\"/static/jquery.js\"></script>\\n<script>\\n    $(function(){\\n        var page = 1, tag = null, hasNextPage = true;\\n        function appendQuotes(quotes) {\\n            var $quotes = $(\\'.quotes\\');\\n            var html = $.map(quotes, function(d){\\n                var tags = $.map(d[\\'tags\\'], function(t) {\\n                    return \"<a class=\\'tag\\'>\" + t + \"</a>\";\\n                }).join(\" \");\\n                return \"<div class=\\'quote\\'><span class=\\'text\\'>\" + d[\\'text\\'] + \"</span><span>by <small class=\\'author\\'>\" + d[\\'author\\'][\\'name\\'] + \"</small></span><div class=\\'tags\\'>Tags: \" + tags + \"</div></div>\";\\n            });\\n\\n            $quotes.append(html);\\n        }\\n\\n        function updatePage(page) {\\n            $(\\'#loading\\').show(\\'fast\\');\\n            $.get(\\'/api/quotes\\', {page: page}).done(function(data) {\\n                appendQuotes(data.quotes);\\n                hasNextPage = data.has_next;\\n                $(\\'#loading\\').hide(\\'fast\\');\\n            });\\n        }\\n        updatePage(page);\\n        $(window).on(\\'scroll\\', function(){\\n            var scrollTop = $(window).scrollTop();\\n            var heightDiff = $(document).height() - $(window).height();\\n            if (hasNextPage && Math.abs(scrollTop - heightDiff) <= 1){\\n                page += 1;\\n                console.log(\\'scrolling to page: \\' + page);\\n                updatePage(page);\\n            }\\n        });\\n    });\\n</script>\\n\\n    </div>\\n    <footer class=\"footer\">\\n        <div class=\"container\">\\n            <p class=\"text-muted\">\\n                Quotes by: <a href=\"https://www.goodreads.com/quotes\">GoodReads.com</a>\\n            </p>\\n            <p class=\"copyright\">\\n                Made with <span class=\"zyte\">❤</span> by <a class=\"zyte\" href=\"https://www.zyte.com\">Zyte</a>\\n            </p>\\n        </div>\\n    </footer>\\n\\n</body></html>'"
      ]
     },
     "execution_count": 14,
     "metadata": {},
     "output_type": "execute_result"
    }
   ],
   "source": [
    "html"
   ]
  },
  {
   "cell_type": "code",
   "execution_count": 15,
   "id": "061a3376",
   "metadata": {},
   "outputs": [
    {
     "data": {
      "text/plain": [
       "<html lang=\"en\"><head>\n",
       "<meta charset=\"utf-8\"/>\n",
       "<title>Quotes to Scrape</title>\n",
       "<link href=\"/static/bootstrap.min.css\" rel=\"stylesheet\"/>\n",
       "<link href=\"/static/main.css\" rel=\"stylesheet\"/>\n",
       "</head>\n",
       "<body>\n",
       "<div class=\"container\">\n",
       "<div class=\"row header-box\">\n",
       "<div class=\"col-md-8\">\n",
       "<h1>\n",
       "<a href=\"/\" style=\"text-decoration: none\">Quotes to Scrape</a>\n",
       "</h1>\n",
       "</div>\n",
       "<div class=\"col-md-4\">\n",
       "<p>\n",
       "<a href=\"/login\">Login</a>\n",
       "</p>\n",
       "</div>\n",
       "</div>\n",
       "<div class=\"row\">\n",
       "<div class=\"col-md-8\">\n",
       "<div class=\"quotes\"><div class=\"quote\"><span class=\"text\">“The world as we have created it is a process of our thinking. It cannot be changed without changing our thinking.”</span><span>by <small class=\"author\">Albert Einstein</small></span><div class=\"tags\">Tags: <a class=\"tag\">change</a> <a class=\"tag\">deep-thoughts</a> <a class=\"tag\">thinking</a> <a class=\"tag\">world</a></div></div><div class=\"quote\"><span class=\"text\">“It is our choices, Harry, that show what we truly are, far more than our abilities.”</span><span>by <small class=\"author\">J.K. Rowling</small></span><div class=\"tags\">Tags: <a class=\"tag\">abilities</a> <a class=\"tag\">choices</a></div></div><div class=\"quote\"><span class=\"text\">“There are only two ways to live your life. One is as though nothing is a miracle. The other is as though everything is a miracle.”</span><span>by <small class=\"author\">Albert Einstein</small></span><div class=\"tags\">Tags: <a class=\"tag\">inspirational</a> <a class=\"tag\">life</a> <a class=\"tag\">live</a> <a class=\"tag\">miracle</a> <a class=\"tag\">miracles</a></div></div><div class=\"quote\"><span class=\"text\">“The person, be it gentleman or lady, who has not pleasure in a good novel, must be intolerably stupid.”</span><span>by <small class=\"author\">Jane Austen</small></span><div class=\"tags\">Tags: <a class=\"tag\">aliteracy</a> <a class=\"tag\">books</a> <a class=\"tag\">classic</a> <a class=\"tag\">humor</a></div></div><div class=\"quote\"><span class=\"text\">“Imperfection is beauty, madness is genius and it's better to be absolutely ridiculous than absolutely boring.”</span><span>by <small class=\"author\">Marilyn Monroe</small></span><div class=\"tags\">Tags: <a class=\"tag\">be-yourself</a> <a class=\"tag\">inspirational</a></div></div><div class=\"quote\"><span class=\"text\">“Try not to become a man of success. Rather become a man of value.”</span><span>by <small class=\"author\">Albert Einstein</small></span><div class=\"tags\">Tags: <a class=\"tag\">adulthood</a> <a class=\"tag\">success</a> <a class=\"tag\">value</a></div></div><div class=\"quote\"><span class=\"text\">“It is better to be hated for what you are than to be loved for what you are not.”</span><span>by <small class=\"author\">André Gide</small></span><div class=\"tags\">Tags: <a class=\"tag\">life</a> <a class=\"tag\">love</a></div></div><div class=\"quote\"><span class=\"text\">“I have not failed. I've just found 10,000 ways that won't work.”</span><span>by <small class=\"author\">Thomas A. Edison</small></span><div class=\"tags\">Tags: <a class=\"tag\">edison</a> <a class=\"tag\">failure</a> <a class=\"tag\">inspirational</a> <a class=\"tag\">paraphrased</a></div></div><div class=\"quote\"><span class=\"text\">“A woman is like a tea bag; you never know how strong it is until it's in hot water.”</span><span>by <small class=\"author\">Eleanor Roosevelt</small></span><div class=\"tags\">Tags: <a class=\"tag\">misattributed-eleanor-roosevelt</a></div></div><div class=\"quote\"><span class=\"text\">“A day without sunshine is like, you know, night.”</span><span>by <small class=\"author\">Steve Martin</small></span><div class=\"tags\">Tags: <a class=\"tag\">humor</a> <a class=\"tag\">obvious</a> <a class=\"tag\">simile</a></div></div></div>\n",
       "</div>\n",
       "</div>\n",
       "<div id=\"loading\" style=\"background-color: rgb(238, 238, 204); display: none;\"><h5>Loading...</h5></div>\n",
       "<script src=\"/static/jquery.js\"></script>\n",
       "<script>\n",
       "    $(function(){\n",
       "        var page = 1, tag = null, hasNextPage = true;\n",
       "        function appendQuotes(quotes) {\n",
       "            var $quotes = $('.quotes');\n",
       "            var html = $.map(quotes, function(d){\n",
       "                var tags = $.map(d['tags'], function(t) {\n",
       "                    return \"<a class='tag'>\" + t + \"</a>\";\n",
       "                }).join(\" \");\n",
       "                return \"<div class='quote'><span class='text'>\" + d['text'] + \"</span><span>by <small class='author'>\" + d['author']['name'] + \"</small></span><div class='tags'>Tags: \" + tags + \"</div></div>\";\n",
       "            });\n",
       "\n",
       "            $quotes.append(html);\n",
       "        }\n",
       "\n",
       "        function updatePage(page) {\n",
       "            $('#loading').show('fast');\n",
       "            $.get('/api/quotes', {page: page}).done(function(data) {\n",
       "                appendQuotes(data.quotes);\n",
       "                hasNextPage = data.has_next;\n",
       "                $('#loading').hide('fast');\n",
       "            });\n",
       "        }\n",
       "        updatePage(page);\n",
       "        $(window).on('scroll', function(){\n",
       "            var scrollTop = $(window).scrollTop();\n",
       "            var heightDiff = $(document).height() - $(window).height();\n",
       "            if (hasNextPage && Math.abs(scrollTop - heightDiff) <= 1){\n",
       "                page += 1;\n",
       "                console.log('scrolling to page: ' + page);\n",
       "                updatePage(page);\n",
       "            }\n",
       "        });\n",
       "    });\n",
       "</script>\n",
       "</div>\n",
       "<footer class=\"footer\">\n",
       "<div class=\"container\">\n",
       "<p class=\"text-muted\">\n",
       "                Quotes by: <a href=\"https://www.goodreads.com/quotes\">GoodReads.com</a>\n",
       "</p>\n",
       "<p class=\"copyright\">\n",
       "                Made with <span class=\"zyte\">❤</span> by <a class=\"zyte\" href=\"https://www.zyte.com\">Zyte</a>\n",
       "</p>\n",
       "</div>\n",
       "</footer>\n",
       "</body></html>"
      ]
     },
     "execution_count": 15,
     "metadata": {},
     "output_type": "execute_result"
    }
   ],
   "source": [
    "soup"
   ]
  },
  {
   "cell_type": "code",
   "execution_count": 16,
   "id": "0d53793c",
   "metadata": {},
   "outputs": [
    {
     "data": {
      "text/plain": [
       "[<div class=\"quote\"><span class=\"text\">“The world as we have created it is a process of our thinking. It cannot be changed without changing our thinking.”</span><span>by <small class=\"author\">Albert Einstein</small></span><div class=\"tags\">Tags: <a class=\"tag\">change</a> <a class=\"tag\">deep-thoughts</a> <a class=\"tag\">thinking</a> <a class=\"tag\">world</a></div></div>,\n",
       " <div class=\"quote\"><span class=\"text\">“It is our choices, Harry, that show what we truly are, far more than our abilities.”</span><span>by <small class=\"author\">J.K. Rowling</small></span><div class=\"tags\">Tags: <a class=\"tag\">abilities</a> <a class=\"tag\">choices</a></div></div>,\n",
       " <div class=\"quote\"><span class=\"text\">“There are only two ways to live your life. One is as though nothing is a miracle. The other is as though everything is a miracle.”</span><span>by <small class=\"author\">Albert Einstein</small></span><div class=\"tags\">Tags: <a class=\"tag\">inspirational</a> <a class=\"tag\">life</a> <a class=\"tag\">live</a> <a class=\"tag\">miracle</a> <a class=\"tag\">miracles</a></div></div>,\n",
       " <div class=\"quote\"><span class=\"text\">“The person, be it gentleman or lady, who has not pleasure in a good novel, must be intolerably stupid.”</span><span>by <small class=\"author\">Jane Austen</small></span><div class=\"tags\">Tags: <a class=\"tag\">aliteracy</a> <a class=\"tag\">books</a> <a class=\"tag\">classic</a> <a class=\"tag\">humor</a></div></div>,\n",
       " <div class=\"quote\"><span class=\"text\">“Imperfection is beauty, madness is genius and it's better to be absolutely ridiculous than absolutely boring.”</span><span>by <small class=\"author\">Marilyn Monroe</small></span><div class=\"tags\">Tags: <a class=\"tag\">be-yourself</a> <a class=\"tag\">inspirational</a></div></div>,\n",
       " <div class=\"quote\"><span class=\"text\">“Try not to become a man of success. Rather become a man of value.”</span><span>by <small class=\"author\">Albert Einstein</small></span><div class=\"tags\">Tags: <a class=\"tag\">adulthood</a> <a class=\"tag\">success</a> <a class=\"tag\">value</a></div></div>,\n",
       " <div class=\"quote\"><span class=\"text\">“It is better to be hated for what you are than to be loved for what you are not.”</span><span>by <small class=\"author\">André Gide</small></span><div class=\"tags\">Tags: <a class=\"tag\">life</a> <a class=\"tag\">love</a></div></div>,\n",
       " <div class=\"quote\"><span class=\"text\">“I have not failed. I've just found 10,000 ways that won't work.”</span><span>by <small class=\"author\">Thomas A. Edison</small></span><div class=\"tags\">Tags: <a class=\"tag\">edison</a> <a class=\"tag\">failure</a> <a class=\"tag\">inspirational</a> <a class=\"tag\">paraphrased</a></div></div>,\n",
       " <div class=\"quote\"><span class=\"text\">“A woman is like a tea bag; you never know how strong it is until it's in hot water.”</span><span>by <small class=\"author\">Eleanor Roosevelt</small></span><div class=\"tags\">Tags: <a class=\"tag\">misattributed-eleanor-roosevelt</a></div></div>,\n",
       " <div class=\"quote\"><span class=\"text\">“A day without sunshine is like, you know, night.”</span><span>by <small class=\"author\">Steve Martin</small></span><div class=\"tags\">Tags: <a class=\"tag\">humor</a> <a class=\"tag\">obvious</a> <a class=\"tag\">simile</a></div></div>]"
      ]
     },
     "execution_count": 16,
     "metadata": {},
     "output_type": "execute_result"
    }
   ],
   "source": [
    "quotes"
   ]
  },
  {
   "cell_type": "markdown",
   "id": "2c39c426",
   "metadata": {},
   "source": [
    "## With scroll"
   ]
  },
  {
   "cell_type": "code",
   "execution_count": 1,
   "id": "07e4f779",
   "metadata": {},
   "outputs": [],
   "source": [
    "import time\n",
    "\n",
    "from selenium import webdriver\n",
    "from selenium.webdriver.chrome.service import Service\n",
    "from selenium.webdriver.common.by import By"
   ]
  },
  {
   "cell_type": "code",
   "execution_count": 3,
   "id": "77579013",
   "metadata": {},
   "outputs": [],
   "source": [
    "from utils.paths import DRIVERS_DIR\n",
    "# Ruta al chromedriver (si no está en el PATH)\n",
    "chrome_driver_path = str(DRIVERS_DIR / \"chromedriver\")\n",
    "\n",
    "\n",
    "# Opcional: configurar opciones\n",
    "options = webdriver.ChromeOptions()\n",
    "options.add_argument(\"--start-maximized\")  # Pantalla completa\n",
    "options.add_argument(\"--disable-blink-features=AutomationControlled\")  # Menos detectable\n",
    "\n",
    "# Crear el servicio y el driver\n",
    "service = Service(executable_path=chrome_driver_path)\n",
    "driver = webdriver.Chrome(service=service, options=options)"
   ]
  },
  {
   "cell_type": "code",
   "execution_count": 4,
   "id": "30ccc253",
   "metadata": {},
   "outputs": [],
   "source": [
    "url = \"http://quotes.toscrape.com/scroll\"\n",
    "driver.get(url)"
   ]
  },
  {
   "cell_type": "code",
   "execution_count": 5,
   "id": "84f8363f",
   "metadata": {},
   "outputs": [],
   "source": [
    "SCROLL_PAUSE_TIME = 3 # seconds"
   ]
  },
  {
   "cell_type": "code",
   "execution_count": 6,
   "id": "d474fef9",
   "metadata": {},
   "outputs": [],
   "source": [
    "last_height = driver.execute_script(\"return document.body.scrollHeight\")\n",
    "quotes_set = set()\n",
    "\n",
    "# Desplazarse varias veces (limitando hasta 3 iteraciones)\n",
    "for i in range(3):\n",
    "    driver.execute_script(\"window.scrollTo(0, document.body.scrollHeight);\")\n",
    "    time.sleep(SCROLL_PAUSE_TIME)\n",
    "    new_height = driver.execute_script(\"return document.body.scrollHeight\")\n",
    "    \n",
    "    # Extraer las nuevas frases cargadas en esta iteración\n",
    "    quotes = driver.find_elements(By.CLASS_NAME, \"quote\")\n",
    "    for quote in quotes:\n",
    "        text = quote.find_element(By.CLASS_NAME, \"text\").text\n",
    "        quotes_set.add(text)\n",
    "    \n",
    "    if new_height == last_height:\n",
    "        break\n",
    "    \n",
    "    last_height = new_height\n",
    "\n",
    "driver.quit()"
   ]
  },
  {
   "cell_type": "code",
   "execution_count": 7,
   "id": "238b1924",
   "metadata": {},
   "outputs": [
    {
     "name": "stdout",
     "output_type": "stream",
     "text": [
      "Total de frases únicas cargadas: 40\n",
      "“I have always imagined that Paradise will be a kind of library.”\n",
      "“Today you are You, that is truer than true. There is no one alive who is Youer than You.”\n",
      "“Try not to become a man of success. Rather become a man of value.”\n",
      "“A woman is like a tea bag; you never know how strong it is until it's in hot water.”\n",
      "“You may not be her first, her last, or her only. She loved before she may love again. But if she loves you now, what else matters? She's not perfect—you aren't either, and the two of you may never be perfect together but if she can make you laugh, cause you to think twice, and admit to being human and making mistakes, hold onto her and give her the most you can. She may not be thinking about you every second of the day, but she will give you a part of her that she knows you can break—her heart. So don't hurt her, don't change her, don't analyze and don't expect more than she can give. Smile when she makes you happy, let her know when she makes you mad, and miss her when she's not there.”\n",
      "“The truth is, everyone is going to hurt you. You just got to find the ones worth suffering for.”\n",
      "“For every minute you are angry you lose sixty seconds of happiness.”\n",
      "“Not all of us can do great things. But we can do small things with great love.”\n",
      "“I have not failed. I've just found 10,000 ways that won't work.”\n",
      "“It is impossible to live without failing at something, unless you live so cautiously that you might as well not have lived at all - in which case, you fail by default.”\n",
      "“The opposite of love is not hate, it's indifference. The opposite of art is not ugliness, it's indifference. The opposite of faith is not heresy, it's indifference. And the opposite of life is not death, it's indifference.”\n",
      "“Of course it is happening inside your head, Harry, but why on earth should that mean that it is not real?”\n",
      "“To the well-organized mind, death is but the next great adventure.”\n",
      "“Any fool can know. The point is to understand.”\n",
      "“It takes a great deal of bravery to stand up to our enemies, but just as much to stand up to our friends.”\n",
      "“The world as we have created it is a process of our thinking. It cannot be changed without changing our thinking.”\n",
      "“This life is what you make it. No matter what, you're going to mess up sometimes, it's a universal truth. But the good part is you get to decide how you're going to mess it up. Girls will be your friends - they'll act like it anyway. But just remember, some come, some go. The ones that stay with you through everything - they're your true best friends. Don't let go of them. Also remember, sisters make the best friends in the world. As for lovers, well, they'll come and go too. And baby, I hate to say it, most of them - actually pretty much all of them are going to break your heart, but you can't give up because if you give up, you'll never find your soulmate. You'll never find that half who makes you whole and that goes for everything. Just because you fail once, doesn't mean you're gonna fail at everything. Keep trying, hold on, and always, always, always believe in yourself, because if you don't, then who will, sweetie? So keep your head high, keep your chin up, and most importantly, keep smiling, because life's a beautiful thing and there's so much to smile about.”\n",
      "“We read to know we're not alone.”\n",
      "“If you want your children to be intelligent, read them fairy tales. If you want them to be more intelligent, read them more fairy tales.”\n",
      "“I love you without knowing how, or when, or from where. I love you simply, without problems or pride: I love you in this way because I do not know any other way of loving but this, in which there is no I or you, so intimate that your hand upon my chest is my hand, so intimate that when I fall asleep your eyes close.”\n",
      "“One good thing about music, when it hits you, you feel no pain.”\n",
      "“There are only two ways to live your life. One is as though nothing is a miracle. The other is as though everything is a miracle.”\n",
      "“I like nonsense, it wakes up the brain cells. Fantasy is a necessary ingredient in living.”\n",
      "“The more that you read, the more things you will know. The more that you learn, the more places you'll go.”\n",
      "“The person, be it gentleman or lady, who has not pleasure in a good novel, must be intolerably stupid.”\n",
      "“I may not have gone where I intended to go, but I think I have ended up where I needed to be.”\n",
      "“It is not a lack of love, but a lack of friendship that makes unhappy marriages.”\n",
      "“It is never too late to be what you might have been.”\n",
      "“Good friends, good books, and a sleepy conscience: this is the ideal life.”\n",
      "“All you need is love. But a little chocolate now and then doesn't hurt.”\n",
      "“Life is what happens to us while we are making other plans.”\n",
      "“It is our choices, Harry, that show what we truly are, far more than our abilities.”\n",
      "“It is better to be hated for what you are than to be loved for what you are not.”\n",
      "“A day without sunshine is like, you know, night.”\n",
      "“If you can't explain it to a six year old, you don't understand it yourself.”\n",
      "“Logic will get you from A to Z; imagination will get you everywhere.”\n",
      "“If you judge people, you have no time to love them.”\n",
      "“Beauty is in the eye of the beholder and it may be necessary from time to time to give a stupid or misinformed beholder a black eye.”\n",
      "“Anyone who thinks sitting in church can make you a Christian must also think that sitting in a garage can make you a car.”\n",
      "“Imperfection is beauty, madness is genius and it's better to be absolutely ridiculous than absolutely boring.”\n"
     ]
    }
   ],
   "source": [
    "print(f\"Total de frases únicas cargadas: {len(quotes_set)}\")\n",
    "for quote in quotes_set:\n",
    "    print(quote)"
   ]
  },
  {
   "cell_type": "code",
   "execution_count": 8,
   "id": "d6eaaeaf",
   "metadata": {},
   "outputs": [
    {
     "data": {
      "text/plain": [
       "6555"
      ]
     },
     "execution_count": 8,
     "metadata": {},
     "output_type": "execute_result"
    }
   ],
   "source": [
    "last_height"
   ]
  },
  {
   "cell_type": "code",
   "execution_count": 9,
   "id": "02caf8ef",
   "metadata": {},
   "outputs": [
    {
     "data": {
      "text/plain": [
       "{'“A day without sunshine is like, you know, night.”',\n",
       " \"“A woman is like a tea bag; you never know how strong it is until it's in hot water.”\",\n",
       " \"“All you need is love. But a little chocolate now and then doesn't hurt.”\",\n",
       " '“Any fool can know. The point is to understand.”',\n",
       " '“Anyone who thinks sitting in church can make you a Christian must also think that sitting in a garage can make you a car.”',\n",
       " '“Beauty is in the eye of the beholder and it may be necessary from time to time to give a stupid or misinformed beholder a black eye.”',\n",
       " '“For every minute you are angry you lose sixty seconds of happiness.”',\n",
       " '“Good friends, good books, and a sleepy conscience: this is the ideal life.”',\n",
       " '“I have always imagined that Paradise will be a kind of library.”',\n",
       " \"“I have not failed. I've just found 10,000 ways that won't work.”\",\n",
       " '“I like nonsense, it wakes up the brain cells. Fantasy is a necessary ingredient in living.”',\n",
       " '“I love you without knowing how, or when, or from where. I love you simply, without problems or pride: I love you in this way because I do not know any other way of loving but this, in which there is no I or you, so intimate that your hand upon my chest is my hand, so intimate that when I fall asleep your eyes close.”',\n",
       " '“I may not have gone where I intended to go, but I think I have ended up where I needed to be.”',\n",
       " \"“If you can't explain it to a six year old, you don't understand it yourself.”\",\n",
       " '“If you judge people, you have no time to love them.”',\n",
       " '“If you want your children to be intelligent, read them fairy tales. If you want them to be more intelligent, read them more fairy tales.”',\n",
       " \"“Imperfection is beauty, madness is genius and it's better to be absolutely ridiculous than absolutely boring.”\",\n",
       " '“It is better to be hated for what you are than to be loved for what you are not.”',\n",
       " '“It is impossible to live without failing at something, unless you live so cautiously that you might as well not have lived at all - in which case, you fail by default.”',\n",
       " '“It is never too late to be what you might have been.”',\n",
       " '“It is not a lack of love, but a lack of friendship that makes unhappy marriages.”',\n",
       " '“It is our choices, Harry, that show what we truly are, far more than our abilities.”',\n",
       " '“It takes a great deal of bravery to stand up to our enemies, but just as much to stand up to our friends.”',\n",
       " '“Life is what happens to us while we are making other plans.”',\n",
       " '“Logic will get you from A to Z; imagination will get you everywhere.”',\n",
       " '“Not all of us can do great things. But we can do small things with great love.”',\n",
       " '“Of course it is happening inside your head, Harry, but why on earth should that mean that it is not real?”',\n",
       " '“One good thing about music, when it hits you, you feel no pain.”',\n",
       " \"“The more that you read, the more things you will know. The more that you learn, the more places you'll go.”\",\n",
       " \"“The opposite of love is not hate, it's indifference. The opposite of art is not ugliness, it's indifference. The opposite of faith is not heresy, it's indifference. And the opposite of life is not death, it's indifference.”\",\n",
       " '“The person, be it gentleman or lady, who has not pleasure in a good novel, must be intolerably stupid.”',\n",
       " '“The truth is, everyone is going to hurt you. You just got to find the ones worth suffering for.”',\n",
       " '“The world as we have created it is a process of our thinking. It cannot be changed without changing our thinking.”',\n",
       " '“There are only two ways to live your life. One is as though nothing is a miracle. The other is as though everything is a miracle.”',\n",
       " \"“This life is what you make it. No matter what, you're going to mess up sometimes, it's a universal truth. But the good part is you get to decide how you're going to mess it up. Girls will be your friends - they'll act like it anyway. But just remember, some come, some go. The ones that stay with you through everything - they're your true best friends. Don't let go of them. Also remember, sisters make the best friends in the world. As for lovers, well, they'll come and go too. And baby, I hate to say it, most of them - actually pretty much all of them are going to break your heart, but you can't give up because if you give up, you'll never find your soulmate. You'll never find that half who makes you whole and that goes for everything. Just because you fail once, doesn't mean you're gonna fail at everything. Keep trying, hold on, and always, always, always believe in yourself, because if you don't, then who will, sweetie? So keep your head high, keep your chin up, and most importantly, keep smiling, because life's a beautiful thing and there's so much to smile about.”\",\n",
       " '“To the well-organized mind, death is but the next great adventure.”',\n",
       " '“Today you are You, that is truer than true. There is no one alive who is Youer than You.”',\n",
       " '“Try not to become a man of success. Rather become a man of value.”',\n",
       " \"“We read to know we're not alone.”\",\n",
       " \"“You may not be her first, her last, or her only. She loved before she may love again. But if she loves you now, what else matters? She's not perfect—you aren't either, and the two of you may never be perfect together but if she can make you laugh, cause you to think twice, and admit to being human and making mistakes, hold onto her and give her the most you can. She may not be thinking about you every second of the day, but she will give you a part of her that she knows you can break—her heart. So don't hurt her, don't change her, don't analyze and don't expect more than she can give. Smile when she makes you happy, let her know when she makes you mad, and miss her when she's not there.”\"}"
      ]
     },
     "execution_count": 9,
     "metadata": {},
     "output_type": "execute_result"
    }
   ],
   "source": [
    "quotes_set"
   ]
  },
  {
   "cell_type": "code",
   "execution_count": 10,
   "id": "ae514dff",
   "metadata": {},
   "outputs": [
    {
     "data": {
      "text/plain": [
       "[<selenium.webdriver.remote.webelement.WebElement (session=\"4c3e3508d2c3f55201dc31dcc31ce66b\", element=\"f.DF89162289EA9A5DDB8C22AE6CE3CAC4.d.81A41F1F620DB73960683F486B01319A.e.7\")>,\n",
       " <selenium.webdriver.remote.webelement.WebElement (session=\"4c3e3508d2c3f55201dc31dcc31ce66b\", element=\"f.DF89162289EA9A5DDB8C22AE6CE3CAC4.d.81A41F1F620DB73960683F486B01319A.e.8\")>,\n",
       " <selenium.webdriver.remote.webelement.WebElement (session=\"4c3e3508d2c3f55201dc31dcc31ce66b\", element=\"f.DF89162289EA9A5DDB8C22AE6CE3CAC4.d.81A41F1F620DB73960683F486B01319A.e.9\")>,\n",
       " <selenium.webdriver.remote.webelement.WebElement (session=\"4c3e3508d2c3f55201dc31dcc31ce66b\", element=\"f.DF89162289EA9A5DDB8C22AE6CE3CAC4.d.81A41F1F620DB73960683F486B01319A.e.10\")>,\n",
       " <selenium.webdriver.remote.webelement.WebElement (session=\"4c3e3508d2c3f55201dc31dcc31ce66b\", element=\"f.DF89162289EA9A5DDB8C22AE6CE3CAC4.d.81A41F1F620DB73960683F486B01319A.e.11\")>,\n",
       " <selenium.webdriver.remote.webelement.WebElement (session=\"4c3e3508d2c3f55201dc31dcc31ce66b\", element=\"f.DF89162289EA9A5DDB8C22AE6CE3CAC4.d.81A41F1F620DB73960683F486B01319A.e.12\")>,\n",
       " <selenium.webdriver.remote.webelement.WebElement (session=\"4c3e3508d2c3f55201dc31dcc31ce66b\", element=\"f.DF89162289EA9A5DDB8C22AE6CE3CAC4.d.81A41F1F620DB73960683F486B01319A.e.13\")>,\n",
       " <selenium.webdriver.remote.webelement.WebElement (session=\"4c3e3508d2c3f55201dc31dcc31ce66b\", element=\"f.DF89162289EA9A5DDB8C22AE6CE3CAC4.d.81A41F1F620DB73960683F486B01319A.e.6\")>,\n",
       " <selenium.webdriver.remote.webelement.WebElement (session=\"4c3e3508d2c3f55201dc31dcc31ce66b\", element=\"f.DF89162289EA9A5DDB8C22AE6CE3CAC4.d.81A41F1F620DB73960683F486B01319A.e.14\")>,\n",
       " <selenium.webdriver.remote.webelement.WebElement (session=\"4c3e3508d2c3f55201dc31dcc31ce66b\", element=\"f.DF89162289EA9A5DDB8C22AE6CE3CAC4.d.81A41F1F620DB73960683F486B01319A.e.15\")>,\n",
       " <selenium.webdriver.remote.webelement.WebElement (session=\"4c3e3508d2c3f55201dc31dcc31ce66b\", element=\"f.DF89162289EA9A5DDB8C22AE6CE3CAC4.d.81A41F1F620DB73960683F486B01319A.e.16\")>,\n",
       " <selenium.webdriver.remote.webelement.WebElement (session=\"4c3e3508d2c3f55201dc31dcc31ce66b\", element=\"f.DF89162289EA9A5DDB8C22AE6CE3CAC4.d.81A41F1F620DB73960683F486B01319A.e.17\")>,\n",
       " <selenium.webdriver.remote.webelement.WebElement (session=\"4c3e3508d2c3f55201dc31dcc31ce66b\", element=\"f.DF89162289EA9A5DDB8C22AE6CE3CAC4.d.81A41F1F620DB73960683F486B01319A.e.18\")>,\n",
       " <selenium.webdriver.remote.webelement.WebElement (session=\"4c3e3508d2c3f55201dc31dcc31ce66b\", element=\"f.DF89162289EA9A5DDB8C22AE6CE3CAC4.d.81A41F1F620DB73960683F486B01319A.e.19\")>,\n",
       " <selenium.webdriver.remote.webelement.WebElement (session=\"4c3e3508d2c3f55201dc31dcc31ce66b\", element=\"f.DF89162289EA9A5DDB8C22AE6CE3CAC4.d.81A41F1F620DB73960683F486B01319A.e.20\")>,\n",
       " <selenium.webdriver.remote.webelement.WebElement (session=\"4c3e3508d2c3f55201dc31dcc31ce66b\", element=\"f.DF89162289EA9A5DDB8C22AE6CE3CAC4.d.81A41F1F620DB73960683F486B01319A.e.21\")>,\n",
       " <selenium.webdriver.remote.webelement.WebElement (session=\"4c3e3508d2c3f55201dc31dcc31ce66b\", element=\"f.DF89162289EA9A5DDB8C22AE6CE3CAC4.d.81A41F1F620DB73960683F486B01319A.e.22\")>,\n",
       " <selenium.webdriver.remote.webelement.WebElement (session=\"4c3e3508d2c3f55201dc31dcc31ce66b\", element=\"f.DF89162289EA9A5DDB8C22AE6CE3CAC4.d.81A41F1F620DB73960683F486B01319A.e.23\")>,\n",
       " <selenium.webdriver.remote.webelement.WebElement (session=\"4c3e3508d2c3f55201dc31dcc31ce66b\", element=\"f.DF89162289EA9A5DDB8C22AE6CE3CAC4.d.81A41F1F620DB73960683F486B01319A.e.24\")>,\n",
       " <selenium.webdriver.remote.webelement.WebElement (session=\"4c3e3508d2c3f55201dc31dcc31ce66b\", element=\"f.DF89162289EA9A5DDB8C22AE6CE3CAC4.d.81A41F1F620DB73960683F486B01319A.e.25\")>,\n",
       " <selenium.webdriver.remote.webelement.WebElement (session=\"4c3e3508d2c3f55201dc31dcc31ce66b\", element=\"f.DF89162289EA9A5DDB8C22AE6CE3CAC4.d.81A41F1F620DB73960683F486B01319A.e.46\")>,\n",
       " <selenium.webdriver.remote.webelement.WebElement (session=\"4c3e3508d2c3f55201dc31dcc31ce66b\", element=\"f.DF89162289EA9A5DDB8C22AE6CE3CAC4.d.81A41F1F620DB73960683F486B01319A.e.47\")>,\n",
       " <selenium.webdriver.remote.webelement.WebElement (session=\"4c3e3508d2c3f55201dc31dcc31ce66b\", element=\"f.DF89162289EA9A5DDB8C22AE6CE3CAC4.d.81A41F1F620DB73960683F486B01319A.e.48\")>,\n",
       " <selenium.webdriver.remote.webelement.WebElement (session=\"4c3e3508d2c3f55201dc31dcc31ce66b\", element=\"f.DF89162289EA9A5DDB8C22AE6CE3CAC4.d.81A41F1F620DB73960683F486B01319A.e.49\")>,\n",
       " <selenium.webdriver.remote.webelement.WebElement (session=\"4c3e3508d2c3f55201dc31dcc31ce66b\", element=\"f.DF89162289EA9A5DDB8C22AE6CE3CAC4.d.81A41F1F620DB73960683F486B01319A.e.50\")>,\n",
       " <selenium.webdriver.remote.webelement.WebElement (session=\"4c3e3508d2c3f55201dc31dcc31ce66b\", element=\"f.DF89162289EA9A5DDB8C22AE6CE3CAC4.d.81A41F1F620DB73960683F486B01319A.e.51\")>,\n",
       " <selenium.webdriver.remote.webelement.WebElement (session=\"4c3e3508d2c3f55201dc31dcc31ce66b\", element=\"f.DF89162289EA9A5DDB8C22AE6CE3CAC4.d.81A41F1F620DB73960683F486B01319A.e.52\")>,\n",
       " <selenium.webdriver.remote.webelement.WebElement (session=\"4c3e3508d2c3f55201dc31dcc31ce66b\", element=\"f.DF89162289EA9A5DDB8C22AE6CE3CAC4.d.81A41F1F620DB73960683F486B01319A.e.53\")>,\n",
       " <selenium.webdriver.remote.webelement.WebElement (session=\"4c3e3508d2c3f55201dc31dcc31ce66b\", element=\"f.DF89162289EA9A5DDB8C22AE6CE3CAC4.d.81A41F1F620DB73960683F486B01319A.e.54\")>,\n",
       " <selenium.webdriver.remote.webelement.WebElement (session=\"4c3e3508d2c3f55201dc31dcc31ce66b\", element=\"f.DF89162289EA9A5DDB8C22AE6CE3CAC4.d.81A41F1F620DB73960683F486B01319A.e.55\")>,\n",
       " <selenium.webdriver.remote.webelement.WebElement (session=\"4c3e3508d2c3f55201dc31dcc31ce66b\", element=\"f.DF89162289EA9A5DDB8C22AE6CE3CAC4.d.81A41F1F620DB73960683F486B01319A.e.66\")>,\n",
       " <selenium.webdriver.remote.webelement.WebElement (session=\"4c3e3508d2c3f55201dc31dcc31ce66b\", element=\"f.DF89162289EA9A5DDB8C22AE6CE3CAC4.d.81A41F1F620DB73960683F486B01319A.e.67\")>,\n",
       " <selenium.webdriver.remote.webelement.WebElement (session=\"4c3e3508d2c3f55201dc31dcc31ce66b\", element=\"f.DF89162289EA9A5DDB8C22AE6CE3CAC4.d.81A41F1F620DB73960683F486B01319A.e.68\")>,\n",
       " <selenium.webdriver.remote.webelement.WebElement (session=\"4c3e3508d2c3f55201dc31dcc31ce66b\", element=\"f.DF89162289EA9A5DDB8C22AE6CE3CAC4.d.81A41F1F620DB73960683F486B01319A.e.69\")>,\n",
       " <selenium.webdriver.remote.webelement.WebElement (session=\"4c3e3508d2c3f55201dc31dcc31ce66b\", element=\"f.DF89162289EA9A5DDB8C22AE6CE3CAC4.d.81A41F1F620DB73960683F486B01319A.e.70\")>,\n",
       " <selenium.webdriver.remote.webelement.WebElement (session=\"4c3e3508d2c3f55201dc31dcc31ce66b\", element=\"f.DF89162289EA9A5DDB8C22AE6CE3CAC4.d.81A41F1F620DB73960683F486B01319A.e.71\")>,\n",
       " <selenium.webdriver.remote.webelement.WebElement (session=\"4c3e3508d2c3f55201dc31dcc31ce66b\", element=\"f.DF89162289EA9A5DDB8C22AE6CE3CAC4.d.81A41F1F620DB73960683F486B01319A.e.72\")>,\n",
       " <selenium.webdriver.remote.webelement.WebElement (session=\"4c3e3508d2c3f55201dc31dcc31ce66b\", element=\"f.DF89162289EA9A5DDB8C22AE6CE3CAC4.d.81A41F1F620DB73960683F486B01319A.e.73\")>,\n",
       " <selenium.webdriver.remote.webelement.WebElement (session=\"4c3e3508d2c3f55201dc31dcc31ce66b\", element=\"f.DF89162289EA9A5DDB8C22AE6CE3CAC4.d.81A41F1F620DB73960683F486B01319A.e.74\")>,\n",
       " <selenium.webdriver.remote.webelement.WebElement (session=\"4c3e3508d2c3f55201dc31dcc31ce66b\", element=\"f.DF89162289EA9A5DDB8C22AE6CE3CAC4.d.81A41F1F620DB73960683F486B01319A.e.75\")>]"
      ]
     },
     "execution_count": 10,
     "metadata": {},
     "output_type": "execute_result"
    }
   ],
   "source": [
    "quotes"
   ]
  },
  {
   "cell_type": "code",
   "execution_count": null,
   "id": "1aff4760",
   "metadata": {},
   "outputs": [],
   "source": []
  }
 ],
 "metadata": {
  "kernelspec": {
   "display_name": "ws-py312",
   "language": "python",
   "name": "python3"
  },
  "language_info": {
   "codemirror_mode": {
    "name": "ipython",
    "version": 3
   },
   "file_extension": ".py",
   "mimetype": "text/x-python",
   "name": "python",
   "nbconvert_exporter": "python",
   "pygments_lexer": "ipython3",
   "version": "3.12.11"
  }
 },
 "nbformat": 4,
 "nbformat_minor": 5
}
