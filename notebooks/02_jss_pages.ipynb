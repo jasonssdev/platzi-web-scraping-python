{
 "cells": [
  {
   "cell_type": "code",
   "execution_count": 1,
   "id": "d9588b8e",
   "metadata": {},
   "outputs": [],
   "source": [
    "import requests\n",
    "from bs4 import BeautifulSoup\n",
    "\n",
    "import csv\n",
    "import json\n",
    "\n",
    "import time\n",
    "import random"
   ]
  },
  {
   "cell_type": "code",
   "execution_count": 2,
   "id": "69247505",
   "metadata": {},
   "outputs": [],
   "source": [
    "base_url = \"http://books.toscrape.com/catalogue/category/books_1/page-{}.html\""
   ]
  },
  {
   "cell_type": "code",
   "execution_count": 3,
   "id": "a5ec0382",
   "metadata": {},
   "outputs": [
    {
     "name": "stdout",
     "output_type": "stream",
     "text": [
      "Processed page 1\n",
      "Processed page 2\n",
      "Processed page 3\n"
     ]
    }
   ],
   "source": [
    "product_list = []\n",
    "\n",
    "for page in range(1, 4):\n",
    "    url = base_url.format(page)\n",
    "    response = requests.get(url)\n",
    "    soup = BeautifulSoup(response.text, 'html.parser')\n",
    "    products = soup.select('article.product_pod')\n",
    "\n",
    "    for product in products:\n",
    "        title = product.h3.a['title']\n",
    "        price = product.select_one('p.price_color').text\n",
    "        availability = product.select_one('p.availability').text.strip()\n",
    "        rating = product.p['class'][1]\n",
    "        image_rel = product.find(\"div\", class_=\"image_container\").find(\"img\")[\"src\"]\n",
    "        image_url = \"http://books.toscrape.com/\" + image_rel.replace(\"../\", \"\")\n",
    "\n",
    "        product_list.append({\n",
    "            \"title\": title,\n",
    "            \"price\": price,\n",
    "            \"availability\": availability,\n",
    "            \"rating\": rating,\n",
    "            \"image_url\": image_url\n",
    "        })\n",
    "\n",
    "    time.sleep(1)\n",
    "    print(f\"Processed page {page}\")"
   ]
  },
  {
   "cell_type": "code",
   "execution_count": 4,
   "id": "4663b748",
   "metadata": {},
   "outputs": [
    {
     "data": {
      "text/plain": [
       "{'title': 'A Light in the Attic',\n",
       " 'price': 'Â£51.77',\n",
       " 'availability': 'In stock',\n",
       " 'rating': 'Three',\n",
       " 'image_url': 'http://books.toscrape.com/media/cache/2c/da/2cdad67c44b002e7ead0cc35693c0e8b.jpg'}"
      ]
     },
     "execution_count": 4,
     "metadata": {},
     "output_type": "execute_result"
    }
   ],
   "source": [
    "product_list[0]"
   ]
  },
  {
   "cell_type": "code",
   "execution_count": 5,
   "id": "9b7f7f89",
   "metadata": {},
   "outputs": [
    {
     "name": "stdout",
     "output_type": "stream",
     "text": [
      "<class 'str'>\n"
     ]
    }
   ],
   "source": [
    "from utils.paths import DATA_RAW_DIR\n",
    "path_csv = str(DATA_RAW_DIR / \"products_multipage.csv\")\n",
    "print(type(path_csv))"
   ]
  },
  {
   "cell_type": "code",
   "execution_count": 7,
   "id": "a297985c",
   "metadata": {},
   "outputs": [
    {
     "name": "stdout",
     "output_type": "stream",
     "text": [
      "60 products saved to /Users/jasonssdev/Dev/Learning/Platzi/platzi-web-scraping-python/data/raw/products_multipage.csv\n"
     ]
    }
   ],
   "source": [
    "with open(path_csv, 'w', newline='', encoding='utf-8') as csvfile:\n",
    "    fieldnames = ['title', 'price', 'availability', 'rating', 'image_url']\n",
    "    writer = csv.DictWriter(csvfile, fieldnames=fieldnames)\n",
    "    \n",
    "    writer.writeheader()\n",
    "    for product in product_list:\n",
    "        writer.writerow(product)\n",
    "        \n",
    "print(f\"{len(product_list)} products saved to {path_csv}\")"
   ]
  },
  {
   "cell_type": "markdown",
   "id": "c1329ea7",
   "metadata": {},
   "source": [
    "## 2) Manejando errores y excepciones comunes"
   ]
  },
  {
   "cell_type": "code",
   "execution_count": 8,
   "id": "c2aff0e8",
   "metadata": {},
   "outputs": [
    {
     "name": "stdout",
     "output_type": "stream",
     "text": [
      "Page 47 processed.\n",
      "Page 48 processed.\n",
      "Page 49 processed.\n",
      "Page 50 processed.\n",
      "Wrong in page 51: 404 Client Error: Not Found for url: http://books.toscrape.com/catalogue/category/books_1/page-51.html\n",
      "Wrong in page 52: 404 Client Error: Not Found for url: http://books.toscrape.com/catalogue/category/books_1/page-52.html\n"
     ]
    }
   ],
   "source": [
    "product_list = []\n",
    "\n",
    "for page in range(47, 53):  \n",
    "    url = base_url.format(page)\n",
    "    try:\n",
    "        response = requests.get(url)\n",
    "        response.raise_for_status()  \n",
    "        soup = BeautifulSoup(response.text, \"html.parser\")\n",
    "        products = soup.select(\"article.product_pod\")\n",
    "    except requests.RequestException as e:\n",
    "        print(f\"Wrong in page {page}: {e}\")\n",
    "        continue \n",
    "\n",
    "    for product in products:\n",
    "        try:\n",
    "            title = product.h3.a['title']\n",
    "            price = product.select_one('p.price_color').text\n",
    "            availability = product.select_one('p.availability').text.strip()\n",
    "            rating = product.p['class'][1]\n",
    "            image_rel = product.find(\"div\", class_=\"image_container\").find(\"img\")[\"src\"]\n",
    "            image_url = \"http://books.toscrape.com/\" + image_rel.replace(\"../\", \"\")\n",
    "\n",
    "            product_list.append({\n",
    "                \"title\": title,\n",
    "                \"price\": price,\n",
    "                \"availability\": availability,\n",
    "                \"rating\": rating,\n",
    "                \"image_url\": image_url\n",
    "                })\n",
    "        except Exception as ex:\n",
    "            print(\"Data extraction error:\", ex)\n",
    "    time.sleep(1)\n",
    "    print(f\"Page {page} processed.\")"
   ]
  },
  {
   "cell_type": "code",
   "execution_count": 9,
   "id": "e019f523",
   "metadata": {},
   "outputs": [
    {
     "name": "stdout",
     "output_type": "stream",
     "text": [
      "<class 'str'>\n"
     ]
    }
   ],
   "source": [
    "product_errors = str(DATA_RAW_DIR / \"products_with_errors.csv\")\n",
    "print(type(product_errors))"
   ]
  },
  {
   "cell_type": "code",
   "execution_count": 10,
   "id": "241eaade",
   "metadata": {},
   "outputs": [
    {
     "name": "stdout",
     "output_type": "stream",
     "text": [
      "80 products with errors saved to /Users/jasonssdev/Dev/Learning/Platzi/platzi-web-scraping-python/data/raw/products_with_errors.csv\n"
     ]
    }
   ],
   "source": [
    "with open(product_errors, \"w\", newline=\"\", encoding=\"utf-8\") as csvfile:\n",
    "    fieldnames = ['title', 'price', 'availability', 'rating', 'image_url']\n",
    "    writer = csv.DictWriter(csvfile, fieldnames=fieldnames)\n",
    "    \n",
    "    writer.writeheader()\n",
    "    writer.writerows(product_list)\n",
    "\n",
    "print(f\"{len(product_list)} products with errors saved to {product_errors}\")"
   ]
  },
  {
   "cell_type": "markdown",
   "id": "81e97686",
   "metadata": {},
   "source": [
    "## 3) Buenas prácticas: headers, tiempos y ética del scraping"
   ]
  },
  {
   "cell_type": "code",
   "execution_count": 11,
   "id": "0e40815d",
   "metadata": {},
   "outputs": [],
   "source": [
    "header = {\n",
    "    \"Mozilla/5.0 (Macintosh; Intel Mac OS X 10_15_7) AppleWebKit/537.36 (KHTML, like Gecko) Chrome/137.0.0.0 Safari/537.36\"\n",
    "}"
   ]
  },
  {
   "cell_type": "code",
   "execution_count": 12,
   "id": "a0cde372",
   "metadata": {},
   "outputs": [],
   "source": [
    "base_url = \"http://books.toscrape.com/catalogue/category/books_1/page-{}.html\""
   ]
  },
  {
   "cell_type": "code",
   "execution_count": 13,
   "id": "fbfa790c",
   "metadata": {},
   "outputs": [
    {
     "name": "stdout",
     "output_type": "stream",
     "text": [
      "Page 1 processed with a sleep time of 1.93 seconds.\n",
      "Page 2 processed with a sleep time of 2.14 seconds.\n",
      "Page 3 processed with a sleep time of 1.17 seconds.\n"
     ]
    }
   ],
   "source": [
    "product_list = []\n",
    "\n",
    "for page in range(1, 4):  \n",
    "    url = base_url.format(page)\n",
    "    try:\n",
    "        response = requests.get(url)\n",
    "        response.raise_for_status()  \n",
    "        soup = BeautifulSoup(response.text, \"html.parser\")\n",
    "        products = soup.select(\"article.product_pod\")\n",
    "    except requests.RequestException as e:\n",
    "        print(f\"Wrong in page {page}: {e}\")\n",
    "        continue \n",
    "\n",
    "    for product in products:\n",
    "        try:\n",
    "            title = product.h3.a['title']\n",
    "            price = product.select_one('p.price_color').text\n",
    "            availability = product.select_one('p.availability').text.strip()\n",
    "            rating = product.p['class'][1]\n",
    "            image_rel = product.find(\"div\", class_=\"image_container\").find(\"img\")[\"src\"]\n",
    "            image_url = \"http://books.toscrape.com/\" + image_rel.replace(\"../\", \"\")\n",
    "\n",
    "            product_list.append({\n",
    "                \"title\": title,\n",
    "                \"price\": price,\n",
    "                \"availability\": availability,\n",
    "                \"rating\": rating,\n",
    "                \"image_url\": image_url\n",
    "                })\n",
    "        except Exception as ex:\n",
    "            print(\"Data extraction error:\", ex)\n",
    "\n",
    "    sleep_time = random.uniform(1, 3)\n",
    "    time.sleep(sleep_time)\n",
    "    print(f\"Page {page} processed with a sleep time of {sleep_time:.2f} seconds.\")"
   ]
  },
  {
   "cell_type": "markdown",
   "id": "95165364",
   "metadata": {},
   "source": [
    "## 4) Guardar"
   ]
  },
  {
   "cell_type": "code",
   "execution_count": 14,
   "id": "a82968a9",
   "metadata": {},
   "outputs": [
    {
     "name": "stdout",
     "output_type": "stream",
     "text": [
      "60 products saved to /Users/jasonssdev/Dev/Learning/Platzi/platzi-web-scraping-python/data/raw/products_csv_file.csv\n"
     ]
    }
   ],
   "source": [
    "csv_file = str(DATA_RAW_DIR / \"products_csv_file.csv\")\n",
    "\n",
    "with open(csv_file, \"w\", newline=\"\", encoding=\"utf-8\") as csvfile:\n",
    "    fieldnames = ['title', 'price', 'availability', 'rating', 'image_url']\n",
    "    writer = csv.DictWriter(csvfile, fieldnames=fieldnames)\n",
    "    \n",
    "    writer.writeheader()\n",
    "    writer.writerows(product_list)\n",
    "\n",
    "print(f\"{len(product_list)} products saved to {csv_file}\")\n"
   ]
  },
  {
   "cell_type": "code",
   "execution_count": 17,
   "id": "ac252e4e",
   "metadata": {},
   "outputs": [
    {
     "name": "stdout",
     "output_type": "stream",
     "text": [
      "60 products saved to /Users/jasonssdev/Dev/Learning/Platzi/platzi-web-scraping-python/data/raw/products_json_file.json\n"
     ]
    }
   ],
   "source": [
    "json_file = str(DATA_RAW_DIR / \"products_json_file.json\")\n",
    "\n",
    "with open(json_file, \"w\", newline=\"\", encoding=\"utf-8\") as jsonfile:\n",
    "    json.dump(product_list, jsonfile, indent=4, ensure_ascii=False)\n",
    "\n",
    "print(f\"{len(product_list)} products saved to {json_file}\")\n"
   ]
  },
  {
   "cell_type": "code",
   "execution_count": 18,
   "id": "c8d5d684",
   "metadata": {},
   "outputs": [
    {
     "name": "stdout",
     "output_type": "stream",
     "text": [
      "60 products saved to Excel file.\n"
     ]
    }
   ],
   "source": [
    "import pandas as pd\n",
    "\n",
    "df = pd.DataFrame(product_list)\n",
    "\n",
    "df.to_excel(str(DATA_RAW_DIR / \"products_excel_file.xlsx\"), index=False)\n",
    "\n",
    "print(f\"{len(product_list)} products saved to Excel file.\")"
   ]
  },
  {
   "cell_type": "code",
   "execution_count": null,
   "id": "91209d84",
   "metadata": {},
   "outputs": [],
   "source": []
  }
 ],
 "metadata": {
  "kernelspec": {
   "display_name": "ws-py312",
   "language": "python",
   "name": "python3"
  },
  "language_info": {
   "codemirror_mode": {
    "name": "ipython",
    "version": 3
   },
   "file_extension": ".py",
   "mimetype": "text/x-python",
   "name": "python",
   "nbconvert_exporter": "python",
   "pygments_lexer": "ipython3",
   "version": "3.12.11"
  }
 },
 "nbformat": 4,
 "nbformat_minor": 5
}
