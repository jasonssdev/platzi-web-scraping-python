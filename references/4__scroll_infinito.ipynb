{
  "cells": [
    {
      "cell_type": "markdown",
      "id": "b25c8ce0",
      "metadata": {},
      "source": [
        "# Curso de Web Scraping\n",
        "\n",
        "<img src=\"https://yaelmanuel.com/wp-content/uploads/2021/12/platzi-banner-logo-matematicas.png\" width=\"500px\">\n",
        "\n",
        "---"
      ]
    },
    {
      "cell_type": "markdown",
      "id": "b40acc42",
      "metadata": {},
      "source": [
        "## 0) Dependencias"
      ]
    },
    {
      "cell_type": "code",
      "execution_count": 7,
      "id": "ce03a549",
      "metadata": {},
      "outputs": [],
      "source": [
        "import time\n",
        "\n",
        "from selenium import webdriver\n",
        "from selenium.webdriver.chrome.service import Service\n",
        "from selenium.webdriver.common.by import By"
      ]
    },
    {
      "cell_type": "markdown",
      "id": "07618cbe",
      "metadata": {},
      "source": [
        "## 1) Configuración del Servicio y Driver"
      ]
    },
    {
      "cell_type": "code",
      "execution_count": 8,
      "id": "b1c07825",
      "metadata": {},
      "outputs": [],
      "source": [
        "# Ruta al chromedriver (si no está en el PATH)\n",
        "chrome_driver_path = \"chromedriver.exe\"\n",
        "\n",
        "# Opcional: configurar opciones\n",
        "options = webdriver.ChromeOptions()\n",
        "options.add_argument(\"--start-maximized\")  # Pantalla completa\n",
        "options.add_argument(\"--disable-blink-features=AutomationControlled\")  # Menos detectable\n",
        "\n",
        "# Crear el servicio y el driver\n",
        "service = Service(executable_path=chrome_driver_path)\n",
        "driver = webdriver.Chrome(service=service, options=options)"
      ]
    },
    {
      "cell_type": "markdown",
      "id": "6341d1aa",
      "metadata": {},
      "source": [
        "## 2) Definir url"
      ]
    },
    {
      "cell_type": "code",
      "execution_count": 9,
      "id": "eeb31898",
      "metadata": {},
      "outputs": [],
      "source": [
        "url = \"http://quotes.toscrape.com/scroll\"\n",
        "driver.get(url)"
      ]
    },
    {
      "cell_type": "markdown",
      "id": "635ef5b3",
      "metadata": {},
      "source": [
        "## 3) Implementación"
      ]
    },
    {
      "cell_type": "code",
      "execution_count": 10,
      "id": "bd80b1dc",
      "metadata": {},
      "outputs": [],
      "source": [
        "SCROLL_PAUSE_TIME = 2 # seconds"
      ]
    },
    {
      "cell_type": "code",
      "execution_count": 11,
      "id": "7e37a497",
      "metadata": {},
      "outputs": [],
      "source": [
        "last_height = driver.execute_script(\"return document.body.scrollHeight\")\n",
        "quotes_set = set()\n",
        "\n",
        "# Desplazarse varias veces (limitando hasta 3 iteraciones)\n",
        "for i in range(3):\n",
        "    driver.execute_script(\"window.scrollTo(0, document.body.scrollHeight);\")\n",
        "    time.sleep(SCROLL_PAUSE_TIME)\n",
        "    new_height = driver.execute_script(\"return document.body.scrollHeight\")\n",
        "    \n",
        "    # Extraer las nuevas frases cargadas en esta iteración\n",
        "    quotes = driver.find_elements(By.CLASS_NAME, \"quote\")\n",
        "    for quote in quotes:\n",
        "        text = quote.find_element(By.CLASS_NAME, \"text\").text\n",
        "        quotes_set.add(text)\n",
        "    \n",
        "    if new_height == last_height:\n",
        "        break\n",
        "    \n",
        "    last_height = new_height\n",
        "\n",
        "driver.quit()"
      ]
    },
    {
      "cell_type": "code",
      "execution_count": 12,
      "id": "adc32432",
      "metadata": {},
      "outputs": [
        {
          "name": "stdout",
          "output_type": "stream",
          "text": [
            "Total de frases únicas cargadas: 40\n",
            "“It is impossible to live without failing at something, unless you live so cautiously that you might as well not have lived at all - in which case, you fail by default.”\n",
            "“The more that you read, the more things you will know. The more that you learn, the more places you'll go.”\n",
            "“I have not failed. I've just found 10,000 ways that won't work.”\n",
            "“Logic will get you from A to Z; imagination will get you everywhere.”\n",
            "“Anyone who thinks sitting in church can make you a Christian must also think that sitting in a garage can make you a car.”\n",
            "“I may not have gone where I intended to go, but I think I have ended up where I needed to be.”\n",
            "“The opposite of love is not hate, it's indifference. The opposite of art is not ugliness, it's indifference. The opposite of faith is not heresy, it's indifference. And the opposite of life is not death, it's indifference.”\n",
            "“Imperfection is beauty, madness is genius and it's better to be absolutely ridiculous than absolutely boring.”\n",
            "“Try not to become a man of success. Rather become a man of value.”\n",
            "“One good thing about music, when it hits you, you feel no pain.”\n",
            "“A woman is like a tea bag; you never know how strong it is until it's in hot water.”\n",
            "“All you need is love. But a little chocolate now and then doesn't hurt.”\n",
            "“A day without sunshine is like, you know, night.”\n",
            "“It is not a lack of love, but a lack of friendship that makes unhappy marriages.”\n",
            "“To the well-organized mind, death is but the next great adventure.”\n",
            "“We read to know we're not alone.”\n",
            "“It takes a great deal of bravery to stand up to our enemies, but just as much to stand up to our friends.”\n",
            "“I have always imagined that Paradise will be a kind of library.”\n",
            "“For every minute you are angry you lose sixty seconds of happiness.”\n",
            "“The truth is, everyone is going to hurt you. You just got to find the ones worth suffering for.”\n",
            "“It is our choices, Harry, that show what we truly are, far more than our abilities.”\n",
            "“Beauty is in the eye of the beholder and it may be necessary from time to time to give a stupid or misinformed beholder a black eye.”\n",
            "“This life is what you make it. No matter what, you're going to mess up sometimes, it's a universal truth. But the good part is you get to decide how you're going to mess it up. Girls will be your friends - they'll act like it anyway. But just remember, some come, some go. The ones that stay with you through everything - they're your true best friends. Don't let go of them. Also remember, sisters make the best friends in the world. As for lovers, well, they'll come and go too. And baby, I hate to say it, most of them - actually pretty much all of them are going to break your heart, but you can't give up because if you give up, you'll never find your soulmate. You'll never find that half who makes you whole and that goes for everything. Just because you fail once, doesn't mean you're gonna fail at everything. Keep trying, hold on, and always, always, always believe in yourself, because if you don't, then who will, sweetie? So keep your head high, keep your chin up, and most importantly, keep smiling, because life's a beautiful thing and there's so much to smile about.”\n",
            "“I love you without knowing how, or when, or from where. I love you simply, without problems or pride: I love you in this way because I do not know any other way of loving but this, in which there is no I or you, so intimate that your hand upon my chest is my hand, so intimate that when I fall asleep your eyes close.”\n",
            "“Of course it is happening inside your head, Harry, but why on earth should that mean that it is not real?”\n",
            "“If you want your children to be intelligent, read them fairy tales. If you want them to be more intelligent, read them more fairy tales.”\n",
            "“Today you are You, that is truer than true. There is no one alive who is Youer than You.”\n",
            "“If you can't explain it to a six year old, you don't understand it yourself.”\n",
            "“It is never too late to be what you might have been.”\n",
            "“You may not be her first, her last, or her only. She loved before she may love again. But if she loves you now, what else matters? She's not perfect—you aren't either, and the two of you may never be perfect together but if she can make you laugh, cause you to think twice, and admit to being human and making mistakes, hold onto her and give her the most you can. She may not be thinking about you every second of the day, but she will give you a part of her that she knows you can break—her heart. So don't hurt her, don't change her, don't analyze and don't expect more than she can give. Smile when she makes you happy, let her know when she makes you mad, and miss her when she's not there.”\n",
            "“I like nonsense, it wakes up the brain cells. Fantasy is a necessary ingredient in living.”\n",
            "“The world as we have created it is a process of our thinking. It cannot be changed without changing our thinking.”\n",
            "“It is better to be hated for what you are than to be loved for what you are not.”\n",
            "“There are only two ways to live your life. One is as though nothing is a miracle. The other is as though everything is a miracle.”\n",
            "“If you judge people, you have no time to love them.”\n",
            "“Life is what happens to us while we are making other plans.”\n",
            "“The person, be it gentleman or lady, who has not pleasure in a good novel, must be intolerably stupid.”\n",
            "“Not all of us can do great things. But we can do small things with great love.”\n",
            "“Any fool can know. The point is to understand.”\n",
            "“Good friends, good books, and a sleepy conscience: this is the ideal life.”\n"
          ]
        }
      ],
      "source": [
        "print(f\"Total de frases únicas cargadas: {len(quotes_set)}\")\n",
        "for quote in quotes_set:\n",
        "    print(quote)"
      ]
    }
  ],
  "metadata": {
    "kernelspec": {
      "display_name": "Python 3",
      "language": "python",
      "name": "python3"
    },
    "language_info": {
      "codemirror_mode": {
        "name": "ipython",
        "version": 3
      },
      "file_extension": ".py",
      "mimetype": "text/x-python",
      "name": "python",
      "nbconvert_exporter": "python",
      "pygments_lexer": "ipython3",
      "version": "3.10.0"
    }
  },
  "nbformat": 4,
  "nbformat_minor": 5
}
