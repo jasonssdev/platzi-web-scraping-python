{
  "cells": [
    {
      "cell_type": "markdown",
      "id": "b25c8ce0",
      "metadata": {},
      "source": [
        "# Curso de Web Scraping\n",
        "\n",
        "<img src=\"https://yaelmanuel.com/wp-content/uploads/2021/12/platzi-banner-logo-matematicas.png\" width=\"500px\">\n",
        "\n",
        "---"
      ]
    },
    {
      "cell_type": "markdown",
      "id": "b40acc42",
      "metadata": {},
      "source": [
        "## 0) Dependencias"
      ]
    },
    {
      "cell_type": "code",
      "execution_count": 9,
      "id": "ce03a549",
      "metadata": {},
      "outputs": [],
      "source": [
        "import time\n",
        "from bs4 import BeautifulSoup\n",
        "\n",
        "from selenium import webdriver\n",
        "from selenium.webdriver.chrome.service import Service\n",
        "from selenium.webdriver.common.by import By"
      ]
    },
    {
      "cell_type": "markdown",
      "id": "07618cbe",
      "metadata": {},
      "source": [
        "## 1) Configuración del Servicio y Driver"
      ]
    },
    {
      "cell_type": "code",
      "execution_count": 10,
      "id": "b1c07825",
      "metadata": {},
      "outputs": [],
      "source": [
        "# Ruta al chromedriver (si no está en el PATH)\n",
        "chrome_driver_path = \"chromedriver.exe\"\n",
        "\n",
        "# Opcional: configurar opciones\n",
        "options = webdriver.ChromeOptions()\n",
        "options.add_argument(\"--start-maximized\")  # Pantalla completa\n",
        "options.add_argument(\"--disable-blink-features=AutomationControlled\")  # Menos detectable\n",
        "\n",
        "# Crear el servicio y el driver\n",
        "service = Service(executable_path=chrome_driver_path)\n",
        "driver = webdriver.Chrome(service=service, options=options)"
      ]
    },
    {
      "cell_type": "markdown",
      "id": "6341d1aa",
      "metadata": {},
      "source": [
        "## 2) Definir url"
      ]
    },
    {
      "cell_type": "code",
      "execution_count": 11,
      "id": "eeb31898",
      "metadata": {},
      "outputs": [],
      "source": [
        "# Ir al sitio\n",
        "url = \"http://quotes.toscrape.com/scroll\"\n",
        "driver.get(url)\n",
        "\n",
        "# Esperar 3 segundos\n",
        "time.sleep(3)"
      ]
    },
    {
      "cell_type": "markdown",
      "id": "635ef5b3",
      "metadata": {},
      "source": [
        "## 3) Implementación"
      ]
    },
    {
      "cell_type": "markdown",
      "id": "ca6a203a",
      "metadata": {},
      "source": [
        "**Hacer clic en el enlace \"Login\"**"
      ]
    },
    {
      "cell_type": "code",
      "execution_count": 12,
      "id": "330c0c5c",
      "metadata": {},
      "outputs": [],
      "source": [
        "login_link = driver.find_element(By.LINK_TEXT, \"Login\")\n",
        "login_link.click()\n",
        "time.sleep(2)"
      ]
    },
    {
      "cell_type": "markdown",
      "id": "f73fd008",
      "metadata": {},
      "source": [
        "**Llenar los campos de usuario y contraseña**"
      ]
    },
    {
      "cell_type": "code",
      "execution_count": 13,
      "id": "d1485a23",
      "metadata": {},
      "outputs": [],
      "source": [
        "driver.find_element(By.ID, \"username\").send_keys(\"platzi-admin\")\n",
        "driver.find_element(By.ID, \"password\").send_keys(\"12345\")"
      ]
    },
    {
      "cell_type": "markdown",
      "id": "f9e11176",
      "metadata": {},
      "source": [
        "**Hacer clic en el botón de Login**"
      ]
    },
    {
      "cell_type": "code",
      "execution_count": 14,
      "id": "a45e9e33",
      "metadata": {},
      "outputs": [],
      "source": [
        "driver.find_element(By.CSS_SELECTOR, \"input[type='submit']\").click()\n",
        "time.sleep(5)"
      ]
    },
    {
      "cell_type": "markdown",
      "id": "7de2c13f",
      "metadata": {},
      "source": [
        "**Extraer los Top Ten Tags usando BeautifulSoup**"
      ]
    },
    {
      "cell_type": "code",
      "execution_count": 15,
      "id": "7de13288",
      "metadata": {},
      "outputs": [
        {
          "name": "stdout",
          "output_type": "stream",
          "text": [
            "Top Ten Tags:\n",
            "- love\n",
            "- inspirational\n",
            "- life\n",
            "- humor\n",
            "- books\n",
            "- reading\n",
            "- friendship\n",
            "- friends\n",
            "- truth\n",
            "- simile\n"
          ]
        }
      ],
      "source": [
        "soup = BeautifulSoup(driver.page_source, \"html.parser\")\n",
        "tags_box = soup.find(\"div\", class_=\"tags-box\")\n",
        "tags = [tag.get_text(strip=True) for tag in tags_box.find_all(\"a\", class_=\"tag\")]\n",
        "\n",
        "# Imprimir los resultados\n",
        "print(\"Top Ten Tags:\")\n",
        "for tag in tags:\n",
        "    print(\"-\", tag)"
      ]
    },
    {
      "cell_type": "markdown",
      "id": "97471956",
      "metadata": {},
      "source": [
        "**Cerrar el navegador**"
      ]
    },
    {
      "cell_type": "code",
      "execution_count": 16,
      "id": "df44ba96",
      "metadata": {},
      "outputs": [],
      "source": [
        "driver.quit()"
      ]
    }
  ],
  "metadata": {
    "kernelspec": {
      "display_name": "Python 3",
      "language": "python",
      "name": "python3"
    },
    "language_info": {
      "codemirror_mode": {
        "name": "ipython",
        "version": 3
      },
      "file_extension": ".py",
      "mimetype": "text/x-python",
      "name": "python",
      "nbconvert_exporter": "python",
      "pygments_lexer": "ipython3",
      "version": "3.10.0"
    }
  },
  "nbformat": 4,
  "nbformat_minor": 5
}
