{
 "cells": [
  {
   "cell_type": "markdown",
   "id": "c1590f8a",
   "metadata": {},
   "source": [
    "# Curso de Web Scraping\n",
    "\n",
    "<img src=\"https://yaelmanuel.com/wp-content/uploads/2021/12/platzi-banner-logo-matematicas.png\" width=\"500px\">\n",
    "\n",
    "---"
   ]
  },
  {
   "cell_type": "markdown",
   "id": "3783f9cb",
   "metadata": {},
   "source": [
    "## 0) Dependencias"
   ]
  },
  {
   "cell_type": "code",
   "execution_count": null,
   "id": "cbb06dab",
   "metadata": {},
   "outputs": [],
   "source": [
    "import requests\n",
    "from bs4 import BeautifulSoup\n",
    "\n",
    "import csv\n",
    "import json\n",
    "\n",
    "import time\n",
    "import random"
   ]
  },
  {
   "cell_type": "markdown",
   "id": "ea1ef7c4",
   "metadata": {},
   "source": [
    "## 1) Paginación y scraping de múltiples páginas"
   ]
  },
  {
   "cell_type": "code",
   "execution_count": null,
   "id": "5b910d12",
   "metadata": {},
   "outputs": [],
   "source": [
    "base_url = \"http://books.toscrape.com/catalogue/category/books_1/page-{}.html\""
   ]
  },
  {
   "cell_type": "code",
   "execution_count": null,
   "id": "fcd37c4f",
   "metadata": {},
   "outputs": [],
   "source": [
    "product_list = []\n",
    "\n",
    "# Recorrer las primeras 3 páginas\n",
    "for page in range(49, 53):\n",
    "    url = base_url.format(page)\n",
    "    response = requests.get(url)\n",
    "    soup = BeautifulSoup(response.text, \"html.parser\")\n",
    "    products = soup.select(\"article.product_pod\")\n",
    "    \n",
    "    for product in products:\n",
    "        title = product.find(\"h3\").find(\"a\")[\"title\"]\n",
    "        price = product.find(\"p\", class_=\"price_color\").get_text()\n",
    "        image_rel = product.find(\"div\", class_=\"image_container\").find(\"img\")[\"src\"]\n",
    "        image_url = \"http://books.toscrape.com/\" + image_rel.replace(\"../\", \"\")\n",
    "        product_list.append({\n",
    "            \"title\": title,\n",
    "            \"price\": price,\n",
    "            \"image_url\": image_url\n",
    "        })\n",
    "    \n",
    "    # Espera breve entre páginas para simular navegación real\n",
    "    time.sleep(1)\n",
    "    print(f\"Página {page} procesada.\")"
   ]
  },
  {
   "cell_type": "code",
   "execution_count": null,
   "id": "77e61d27",
   "metadata": {},
   "outputs": [],
   "source": [
    "with open(\"resultados/productos_multi.csv\", \"w\", newline=\"\", encoding=\"utf-8\") as f:\n",
    "    writer = csv.DictWriter(f, fieldnames=[\"title\", \"price\", \"image_url\"])\n",
    "    writer.writeheader()\n",
    "    writer.writerows(product_list)\n",
    "\n",
    "print(f\"Scraping multipágina completado: {len(product_list)} productos guardados en productos_multi.csv\")"
   ]
  },
  {
   "cell_type": "markdown",
   "id": "4544f224",
   "metadata": {},
   "source": [
    "## 2) Manejando errores y excepciones comunes"
   ]
  },
  {
   "cell_type": "code",
   "execution_count": null,
   "id": "ffff9ab8",
   "metadata": {},
   "outputs": [],
   "source": [
    "product_list = []\n",
    "\n",
    "for page in range(47, 53):  # Probar con 6 páginas\n",
    "    url = base_url.format(page)\n",
    "    try:\n",
    "        response = requests.get(url)\n",
    "        response.raise_for_status()  # Lanza error para códigos 400 o 500\n",
    "        soup = BeautifulSoup(response.text, \"html.parser\")\n",
    "        products = soup.select(\"article.product_pod\")\n",
    "    except requests.RequestException as e:\n",
    "        print(f\"Error en la página {page}: {e}\")\n",
    "        continue  # Sigue con la siguiente iteración\n",
    "\n",
    "    for product in products:\n",
    "        try:\n",
    "            title = product.find(\"h3\").find(\"a\")[\"title\"]\n",
    "            price = product.find(\"p\", class_=\"price_color\").get_text()\n",
    "            image_rel = product.find(\"div\", class_=\"image_container\").find(\"img\")[\"src\"]\n",
    "            image_url = \"http://books.toscrape.com/\" + image_rel.replace(\"../\", \"\")\n",
    "            product_list.append({\n",
    "                \"title\": title,\n",
    "                \"price\": price,\n",
    "                \"image_url\": image_url\n",
    "            })\n",
    "        except Exception as ex:\n",
    "            print(\"Error extrayendo datos de un producto:\", ex)\n",
    "    time.sleep(1)\n",
    "    print(f\"Página {page} procesada.\")"
   ]
  },
  {
   "cell_type": "code",
   "execution_count": null,
   "id": "7d539d58",
   "metadata": {},
   "outputs": [],
   "source": [
    "with open(\"resultados/productos_con_errores.csv\", \"w\", newline=\"\", encoding=\"utf-8\") as f:\n",
    "    writer = csv.DictWriter(f, fieldnames=[\"title\", \"price\", \"image_url\"])\n",
    "    writer.writeheader()\n",
    "    writer.writerows(product_list)\n",
    "\n",
    "print(f\"Scraping completado con manejo de errores: {len(product_list)} productos guardados en productos_con_errores.csv\")"
   ]
  },
  {
   "cell_type": "markdown",
   "id": "54ea3c26",
   "metadata": {},
   "source": [
    "## 3) Buenas prácticas: headers, tiempos y ética del scraping"
   ]
  },
  {
   "cell_type": "markdown",
   "id": "6f8aeaff",
   "metadata": {},
   "source": [
    "**📜 ¿Qué es robots.txt?**\n",
    "\n",
    "Es un archivo que los sitios web colocan en su raíz (https://sitio.com/robots.txt) para indicar qué **partes del sitio pueden o no ser exploradas por bots**. Aunque no es una \"ley\" (no lo impide técnicamente), es una norma ética respetarla."
   ]
  },
  {
   "cell_type": "code",
   "execution_count": null,
   "id": "9264eced",
   "metadata": {},
   "outputs": [],
   "source": [
    "# Definir una cabecera\n",
    "headers = {\n",
    "    \"User-Agent\": \"Mozilla/5.0 (X11; Linux x86_64) AppleWebKit/537.36 (KHTML, like Gecko) Chrome/115.0.0.0 Safari/537.36\"\n",
    "}"
   ]
  },
  {
   "cell_type": "code",
   "execution_count": null,
   "id": "07e52588",
   "metadata": {},
   "outputs": [],
   "source": [
    "base_url = \"http://books.toscrape.com/catalogue/category/books_1/page-{}.html\""
   ]
  },
  {
   "cell_type": "code",
   "execution_count": null,
   "id": "55605065",
   "metadata": {},
   "outputs": [],
   "source": [
    "product_list = []\n",
    "\n",
    "for page in range(1, 4):\n",
    "    url = base_url.format(page)\n",
    "    try:\n",
    "        response = requests.get(url, headers=headers)\n",
    "        response.raise_for_status()\n",
    "        soup = BeautifulSoup(response.text, \"html.parser\")\n",
    "        products = soup.select(\"article.product_pod\")\n",
    "    except requests.RequestException as e:\n",
    "        print(f\"Error en la página {page}: {e}\")\n",
    "        continue\n",
    "\n",
    "    for product in products:\n",
    "        try:\n",
    "            title = product.find(\"h3\").find(\"a\")[\"title\"]\n",
    "            price = product.find(\"p\", class_=\"price_color\").get_text()\n",
    "            image_rel = product.find(\"div\", class_=\"image_container\").find(\"img\")[\"src\"]\n",
    "            image_url = \"http://books.toscrape.com/\" + image_rel.replace(\"../\", \"\")\n",
    "            product_list.append({\n",
    "                \"title\": title,\n",
    "                \"price\": price,\n",
    "                \"image_url\": image_url\n",
    "            })\n",
    "        except Exception as ex:\n",
    "            print(\"Error extrayendo datos de un producto:\", ex)\n",
    "    \n",
    "    # Pausa aleatoria para imitar comportamiento humano\n",
    "    sleep_time = random.uniform(1, 3)\n",
    "    time.sleep(sleep_time)\n",
    "    print(f\"Página {page} procesada con una pausa de {sleep_time:.2f} segundos.\")"
   ]
  },
  {
   "cell_type": "markdown",
   "id": "e623dded",
   "metadata": {},
   "source": [
    "## 4) Guardar como CSV y JSON"
   ]
  },
  {
   "cell_type": "markdown",
   "id": "964e695d",
   "metadata": {},
   "source": [
    "### **Guardar en CSV**"
   ]
  },
  {
   "cell_type": "code",
   "execution_count": null,
   "id": "11ae87c0",
   "metadata": {},
   "outputs": [],
   "source": [
    "with open(\"resultados/productos_eticos.csv\", \"w\", newline=\"\", encoding=\"utf-8\") as f:\n",
    "    writer = csv.DictWriter(f, fieldnames=[\"title\", \"price\", \"image_url\"])\n",
    "    writer.writeheader()\n",
    "    writer.writerows(product_list)\n",
    "\n",
    "print(f\"Scraping ético completado: {len(product_list)} productos guardados en productos_eticos.csv\")"
   ]
  },
  {
   "cell_type": "markdown",
   "id": "689d5435",
   "metadata": {},
   "source": [
    "### **Guardar en JSON**"
   ]
  },
  {
   "cell_type": "code",
   "execution_count": null,
   "id": "e2e39587",
   "metadata": {},
   "outputs": [],
   "source": [
    "with open(\"resultados/productos_final.json\", \"w\", encoding=\"utf-8\") as jsonfile:\n",
    "    json.dump(product_list, jsonfile, indent=4, ensure_ascii=False)\n",
    "\n",
    "print(f\"Datos exportados: {len(product_list)} productos en productos_final.json\")"
   ]
  },
  {
   "cell_type": "markdown",
   "id": "132ab8ec",
   "metadata": {},
   "source": [
    "### **Guardar en un Excel**"
   ]
  },
  {
   "cell_type": "code",
   "execution_count": null,
   "id": "80db5a11",
   "metadata": {},
   "outputs": [],
   "source": [
    "#!pip install pandas openpyxl"
   ]
  },
  {
   "cell_type": "code",
   "execution_count": null,
   "id": "f20ea065",
   "metadata": {},
   "outputs": [],
   "source": [
    "import pandas as pd"
   ]
  },
  {
   "cell_type": "code",
   "execution_count": null,
   "id": "c3bf1a1b",
   "metadata": {},
   "outputs": [],
   "source": [
    "# Convertir en Excel\n",
    "df = pd.DataFrame(product_list)\n",
    "\n",
    "# Guardar como archivo Excel\n",
    "df.to_excel(\"resultados/productos_eticos.xlsx\", index=False)\n",
    "\n",
    "print(f\"Scraping ético completado: {len(product_list)} productos guardados en productos_eticos.xlsx\")"
   ]
  },
  {
   "cell_type": "markdown",
   "id": "736adcdc",
   "metadata": {},
   "source": [
    "### **Guardar en un Google Form**"
   ]
  },
  {
   "cell_type": "code",
   "execution_count": null,
   "id": "ff96c16e",
   "metadata": {},
   "outputs": [],
   "source": [
    "import requests\n",
    "import time"
   ]
  },
  {
   "cell_type": "markdown",
   "id": "06261d39",
   "metadata": {},
   "source": [
    "Ejemplo de la estructura de URL de un formulario: \n",
    "<br>https://docs.google.com/forms/d/e/1FAIpQLSfwOqkiwDrLLMyi8-YllxysuERDhsaXsu6oo1398y5b4Vl85A/viewform?usp=pp_url&entry.1649230915=Pinocho&entry.80026608=1500&entry.1487693205=www.pinocho.com"
   ]
  },
  {
   "cell_type": "code",
   "execution_count": null,
   "id": "9cf4cec6",
   "metadata": {},
   "outputs": [
    {
     "name": "stdout",
     "output_type": "stream",
     "text": [
      "✅ Producto 1 enviado: A Light in the Attic\n",
      "✅ Producto 2 enviado: Tipping the Velvet\n",
      "✅ Producto 3 enviado: Soumission\n",
      "✅ Producto 4 enviado: Sharp Objects\n",
      "✅ Producto 5 enviado: Sapiens: A Brief History of Humankind\n"
     ]
    }
   ],
   "source": [
    "# URL del formulario\n",
    "url = \"https://docs.google.com/forms/d/e/xxx/formResponse\"\n",
    "\n",
    "# Encabezados para evitar error 401\n",
    "headers = {\n",
    "    \"User-Agent\": \"Mozilla/5.0 (X11; Linux x86_64) AppleWebKit/537.36 (KHTML, like Gecko) Chrome/89.0.4389.82 Safari/537.36\",\n",
    "    \"Referer\": \"https://docs.google.com/forms/d/e/xxx/viewform\"\n",
    "}\n",
    "\n",
    "# Recorrer y enviar cada producto\n",
    "for i, product in enumerate(product_list[0:5], start=1):\n",
    "    payload = {\n",
    "        \"entry.xxx\": product[\"title\"],        # campo 1: título\n",
    "        \"entry.xxx\": product[\"price\"],       # campo 2: precio\n",
    "        \"entry.xxx\": product[\"image_url\"]    # campo 3: imagen\n",
    "    }\n",
    "\n",
    "    response = requests.post(url, data=payload, headers=headers)\n",
    "\n",
    "    if response.status_code == 200:\n",
    "        print(f\"✅ Producto {i} enviado: {product['title']}\")\n",
    "    else:\n",
    "        print(f\"❌ Error al enviar producto {i} - Código: {response.status_code}\")\n",
    "    \n",
    "    time.sleep(1)  # espera 1 segundo entre envíos para evitar bloqueos"
   ]
  }
 ],
 "metadata": {
  "kernelspec": {
   "display_name": "Python 3",
   "language": "python",
   "name": "python3"
  },
  "language_info": {
   "codemirror_mode": {
    "name": "ipython",
    "version": 3
   },
   "file_extension": ".py",
   "mimetype": "text/x-python",
   "name": "python",
   "nbconvert_exporter": "python",
   "pygments_lexer": "ipython3",
   "version": "3.10.0"
  }
 },
 "nbformat": 4,
 "nbformat_minor": 5
}
